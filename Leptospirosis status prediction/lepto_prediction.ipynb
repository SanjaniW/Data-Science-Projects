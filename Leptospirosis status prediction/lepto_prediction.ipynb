{
  "nbformat": 4,
  "nbformat_minor": 0,
  "metadata": {
    "colab": {
      "provenance": []
    },
    "kernelspec": {
      "name": "python3",
      "display_name": "Python 3"
    },
    "language_info": {
      "name": "python"
    }
  },
  "cells": [
    {
      "cell_type": "code",
      "execution_count": 526,
      "metadata": {
        "colab": {
          "base_uri": "https://localhost:8080/",
          "height": 73
        },
        "id": "5qwFyL1C8tpU",
        "outputId": "57ec177c-c404-4e59-a52c-5a1c0e2e1a68"
      },
      "outputs": [
        {
          "output_type": "display_data",
          "data": {
            "text/plain": [
              "<IPython.core.display.HTML object>"
            ],
            "text/html": [
              "\n",
              "     <input type=\"file\" id=\"files-26182173-94e1-4fae-9f34-9d654b10acb2\" name=\"files[]\" multiple disabled\n",
              "        style=\"border:none\" />\n",
              "     <output id=\"result-26182173-94e1-4fae-9f34-9d654b10acb2\">\n",
              "      Upload widget is only available when the cell has been executed in the\n",
              "      current browser session. Please rerun this cell to enable.\n",
              "      </output>\n",
              "      <script>// Copyright 2017 Google LLC\n",
              "//\n",
              "// Licensed under the Apache License, Version 2.0 (the \"License\");\n",
              "// you may not use this file except in compliance with the License.\n",
              "// You may obtain a copy of the License at\n",
              "//\n",
              "//      http://www.apache.org/licenses/LICENSE-2.0\n",
              "//\n",
              "// Unless required by applicable law or agreed to in writing, software\n",
              "// distributed under the License is distributed on an \"AS IS\" BASIS,\n",
              "// WITHOUT WARRANTIES OR CONDITIONS OF ANY KIND, either express or implied.\n",
              "// See the License for the specific language governing permissions and\n",
              "// limitations under the License.\n",
              "\n",
              "/**\n",
              " * @fileoverview Helpers for google.colab Python module.\n",
              " */\n",
              "(function(scope) {\n",
              "function span(text, styleAttributes = {}) {\n",
              "  const element = document.createElement('span');\n",
              "  element.textContent = text;\n",
              "  for (const key of Object.keys(styleAttributes)) {\n",
              "    element.style[key] = styleAttributes[key];\n",
              "  }\n",
              "  return element;\n",
              "}\n",
              "\n",
              "// Max number of bytes which will be uploaded at a time.\n",
              "const MAX_PAYLOAD_SIZE = 100 * 1024;\n",
              "\n",
              "function _uploadFiles(inputId, outputId) {\n",
              "  const steps = uploadFilesStep(inputId, outputId);\n",
              "  const outputElement = document.getElementById(outputId);\n",
              "  // Cache steps on the outputElement to make it available for the next call\n",
              "  // to uploadFilesContinue from Python.\n",
              "  outputElement.steps = steps;\n",
              "\n",
              "  return _uploadFilesContinue(outputId);\n",
              "}\n",
              "\n",
              "// This is roughly an async generator (not supported in the browser yet),\n",
              "// where there are multiple asynchronous steps and the Python side is going\n",
              "// to poll for completion of each step.\n",
              "// This uses a Promise to block the python side on completion of each step,\n",
              "// then passes the result of the previous step as the input to the next step.\n",
              "function _uploadFilesContinue(outputId) {\n",
              "  const outputElement = document.getElementById(outputId);\n",
              "  const steps = outputElement.steps;\n",
              "\n",
              "  const next = steps.next(outputElement.lastPromiseValue);\n",
              "  return Promise.resolve(next.value.promise).then((value) => {\n",
              "    // Cache the last promise value to make it available to the next\n",
              "    // step of the generator.\n",
              "    outputElement.lastPromiseValue = value;\n",
              "    return next.value.response;\n",
              "  });\n",
              "}\n",
              "\n",
              "/**\n",
              " * Generator function which is called between each async step of the upload\n",
              " * process.\n",
              " * @param {string} inputId Element ID of the input file picker element.\n",
              " * @param {string} outputId Element ID of the output display.\n",
              " * @return {!Iterable<!Object>} Iterable of next steps.\n",
              " */\n",
              "function* uploadFilesStep(inputId, outputId) {\n",
              "  const inputElement = document.getElementById(inputId);\n",
              "  inputElement.disabled = false;\n",
              "\n",
              "  const outputElement = document.getElementById(outputId);\n",
              "  outputElement.innerHTML = '';\n",
              "\n",
              "  const pickedPromise = new Promise((resolve) => {\n",
              "    inputElement.addEventListener('change', (e) => {\n",
              "      resolve(e.target.files);\n",
              "    });\n",
              "  });\n",
              "\n",
              "  const cancel = document.createElement('button');\n",
              "  inputElement.parentElement.appendChild(cancel);\n",
              "  cancel.textContent = 'Cancel upload';\n",
              "  const cancelPromise = new Promise((resolve) => {\n",
              "    cancel.onclick = () => {\n",
              "      resolve(null);\n",
              "    };\n",
              "  });\n",
              "\n",
              "  // Wait for the user to pick the files.\n",
              "  const files = yield {\n",
              "    promise: Promise.race([pickedPromise, cancelPromise]),\n",
              "    response: {\n",
              "      action: 'starting',\n",
              "    }\n",
              "  };\n",
              "\n",
              "  cancel.remove();\n",
              "\n",
              "  // Disable the input element since further picks are not allowed.\n",
              "  inputElement.disabled = true;\n",
              "\n",
              "  if (!files) {\n",
              "    return {\n",
              "      response: {\n",
              "        action: 'complete',\n",
              "      }\n",
              "    };\n",
              "  }\n",
              "\n",
              "  for (const file of files) {\n",
              "    const li = document.createElement('li');\n",
              "    li.append(span(file.name, {fontWeight: 'bold'}));\n",
              "    li.append(span(\n",
              "        `(${file.type || 'n/a'}) - ${file.size} bytes, ` +\n",
              "        `last modified: ${\n",
              "            file.lastModifiedDate ? file.lastModifiedDate.toLocaleDateString() :\n",
              "                                    'n/a'} - `));\n",
              "    const percent = span('0% done');\n",
              "    li.appendChild(percent);\n",
              "\n",
              "    outputElement.appendChild(li);\n",
              "\n",
              "    const fileDataPromise = new Promise((resolve) => {\n",
              "      const reader = new FileReader();\n",
              "      reader.onload = (e) => {\n",
              "        resolve(e.target.result);\n",
              "      };\n",
              "      reader.readAsArrayBuffer(file);\n",
              "    });\n",
              "    // Wait for the data to be ready.\n",
              "    let fileData = yield {\n",
              "      promise: fileDataPromise,\n",
              "      response: {\n",
              "        action: 'continue',\n",
              "      }\n",
              "    };\n",
              "\n",
              "    // Use a chunked sending to avoid message size limits. See b/62115660.\n",
              "    let position = 0;\n",
              "    do {\n",
              "      const length = Math.min(fileData.byteLength - position, MAX_PAYLOAD_SIZE);\n",
              "      const chunk = new Uint8Array(fileData, position, length);\n",
              "      position += length;\n",
              "\n",
              "      const base64 = btoa(String.fromCharCode.apply(null, chunk));\n",
              "      yield {\n",
              "        response: {\n",
              "          action: 'append',\n",
              "          file: file.name,\n",
              "          data: base64,\n",
              "        },\n",
              "      };\n",
              "\n",
              "      let percentDone = fileData.byteLength === 0 ?\n",
              "          100 :\n",
              "          Math.round((position / fileData.byteLength) * 100);\n",
              "      percent.textContent = `${percentDone}% done`;\n",
              "\n",
              "    } while (position < fileData.byteLength);\n",
              "  }\n",
              "\n",
              "  // All done.\n",
              "  yield {\n",
              "    response: {\n",
              "      action: 'complete',\n",
              "    }\n",
              "  };\n",
              "}\n",
              "\n",
              "scope.google = scope.google || {};\n",
              "scope.google.colab = scope.google.colab || {};\n",
              "scope.google.colab._files = {\n",
              "  _uploadFiles,\n",
              "  _uploadFilesContinue,\n",
              "};\n",
              "})(self);\n",
              "</script> "
            ]
          },
          "metadata": {}
        },
        {
          "output_type": "stream",
          "name": "stdout",
          "text": [
            "Saving train.csv to train (5).csv\n"
          ]
        }
      ],
      "source": [
        "import pandas as pd\n",
        "import numpy as np\n",
        "import warnings\n",
        "warnings.filterwarnings(\"ignore\")\n",
        "from google.colab import files\n",
        "uploaded = files.upload()\n",
        "import io\n",
        "\n",
        "data_org = pd.read_csv(io.BytesIO(uploaded['train.csv']))"
      ]
    },
    {
      "cell_type": "markdown",
      "source": [
        "## Data Preprocessing"
      ],
      "metadata": {
        "id": "Jb9HcdF6sXVH"
      }
    },
    {
      "cell_type": "code",
      "source": [
        "data = data_org.copy()"
      ],
      "metadata": {
        "id": "uKxP0nR2wSJ4"
      },
      "execution_count": 527,
      "outputs": []
    },
    {
      "cell_type": "code",
      "source": [
        "data.head()"
      ],
      "metadata": {
        "colab": {
          "base_uri": "https://localhost:8080/",
          "height": 299
        },
        "id": "-USsMgdP9urn",
        "outputId": "34093df2-0488-457b-bf4e-0fe8aef0107a"
      },
      "execution_count": 528,
      "outputs": [
        {
          "output_type": "execute_result",
          "data": {
            "text/plain": [
              "   ID  Year  Month  Hospital  Sample  ICU  OPD  Sex  Age  Ethnicity  ...  \\\n",
              "0   1  2018     11         7       1    2    2    2   53          1  ...   \n",
              "1   2  2018      1         7       1    2    2    1   17          1  ...   \n",
              "2   3  2018      5         7       1    2    2    1   47          1  ...   \n",
              "3   4  2018      1         7       1    2    2    1   21          1  ...   \n",
              "4   5  2016      8         7       1    2    1    1   99          1  ...   \n",
              "\n",
              "   FU_L.interrogansserovarMankarsostr.Mankarso  \\\n",
              "0                                          NaN   \n",
              "1                                          NaN   \n",
              "2                                          NaN   \n",
              "3                                          NaN   \n",
              "4                                          NaN   \n",
              "\n",
              "   FU_L.santarosaiserovarGeorgiastr.LT117  \\\n",
              "0                                     NaN   \n",
              "1                                     NaN   \n",
              "2                                     NaN   \n",
              "3                                     NaN   \n",
              "4                                     NaN   \n",
              "\n",
              "   FU_L.santarosaiserovarPyrogenesstr.Salinem  \\\n",
              "0                                         NaN   \n",
              "1                                         NaN   \n",
              "2                                         NaN   \n",
              "3                                         NaN   \n",
              "4                                         NaN   \n",
              "\n",
              "   FU_L.interrogansserovarBataviaestr.VanTienan  \\\n",
              "0                                           NaN   \n",
              "1                                           NaN   \n",
              "2                                           NaN   \n",
              "3                                           NaN   \n",
              "4                                           NaN   \n",
              "\n",
              "   FU_L.interrogansserovarAlexistr.616  \\\n",
              "0                                  NaN   \n",
              "1                                  NaN   \n",
              "2                                  NaN   \n",
              "3                                  NaN   \n",
              "4                                  NaN   \n",
              "\n",
              "   FU_L.interrogansserovarAustralisstr.Ballico  \\\n",
              "0                                          NaN   \n",
              "1                                          NaN   \n",
              "2                                          NaN   \n",
              "3                                          NaN   \n",
              "4                                          NaN   \n",
              "\n",
              "   FU_L.interrogansserovarwolfiistr.3705  FU_L.interrogansserovarWeerasinghe  \\\n",
              "0                                    NaN                                 NaN   \n",
              "1                                    NaN                                 NaN   \n",
              "2                                    NaN                                 NaN   \n",
              "3                                    NaN                                 NaN   \n",
              "4                                    NaN                                 NaN   \n",
              "\n",
              "   FU_Patoc  Final  \n",
              "0       NaN      2  \n",
              "1       NaN      1  \n",
              "2       NaN      2  \n",
              "3       NaN      2  \n",
              "4       NaN      2  \n",
              "\n",
              "[5 rows x 806 columns]"
            ],
            "text/html": [
              "\n",
              "  <div id=\"df-53804758-8bef-4fc2-a2b1-c67f7bad4511\">\n",
              "    <div class=\"colab-df-container\">\n",
              "      <div>\n",
              "<style scoped>\n",
              "    .dataframe tbody tr th:only-of-type {\n",
              "        vertical-align: middle;\n",
              "    }\n",
              "\n",
              "    .dataframe tbody tr th {\n",
              "        vertical-align: top;\n",
              "    }\n",
              "\n",
              "    .dataframe thead th {\n",
              "        text-align: right;\n",
              "    }\n",
              "</style>\n",
              "<table border=\"1\" class=\"dataframe\">\n",
              "  <thead>\n",
              "    <tr style=\"text-align: right;\">\n",
              "      <th></th>\n",
              "      <th>ID</th>\n",
              "      <th>Year</th>\n",
              "      <th>Month</th>\n",
              "      <th>Hospital</th>\n",
              "      <th>Sample</th>\n",
              "      <th>ICU</th>\n",
              "      <th>OPD</th>\n",
              "      <th>Sex</th>\n",
              "      <th>Age</th>\n",
              "      <th>Ethnicity</th>\n",
              "      <th>...</th>\n",
              "      <th>FU_L.interrogansserovarMankarsostr.Mankarso</th>\n",
              "      <th>FU_L.santarosaiserovarGeorgiastr.LT117</th>\n",
              "      <th>FU_L.santarosaiserovarPyrogenesstr.Salinem</th>\n",
              "      <th>FU_L.interrogansserovarBataviaestr.VanTienan</th>\n",
              "      <th>FU_L.interrogansserovarAlexistr.616</th>\n",
              "      <th>FU_L.interrogansserovarAustralisstr.Ballico</th>\n",
              "      <th>FU_L.interrogansserovarwolfiistr.3705</th>\n",
              "      <th>FU_L.interrogansserovarWeerasinghe</th>\n",
              "      <th>FU_Patoc</th>\n",
              "      <th>Final</th>\n",
              "    </tr>\n",
              "  </thead>\n",
              "  <tbody>\n",
              "    <tr>\n",
              "      <th>0</th>\n",
              "      <td>1</td>\n",
              "      <td>2018</td>\n",
              "      <td>11</td>\n",
              "      <td>7</td>\n",
              "      <td>1</td>\n",
              "      <td>2</td>\n",
              "      <td>2</td>\n",
              "      <td>2</td>\n",
              "      <td>53</td>\n",
              "      <td>1</td>\n",
              "      <td>...</td>\n",
              "      <td>NaN</td>\n",
              "      <td>NaN</td>\n",
              "      <td>NaN</td>\n",
              "      <td>NaN</td>\n",
              "      <td>NaN</td>\n",
              "      <td>NaN</td>\n",
              "      <td>NaN</td>\n",
              "      <td>NaN</td>\n",
              "      <td>NaN</td>\n",
              "      <td>2</td>\n",
              "    </tr>\n",
              "    <tr>\n",
              "      <th>1</th>\n",
              "      <td>2</td>\n",
              "      <td>2018</td>\n",
              "      <td>1</td>\n",
              "      <td>7</td>\n",
              "      <td>1</td>\n",
              "      <td>2</td>\n",
              "      <td>2</td>\n",
              "      <td>1</td>\n",
              "      <td>17</td>\n",
              "      <td>1</td>\n",
              "      <td>...</td>\n",
              "      <td>NaN</td>\n",
              "      <td>NaN</td>\n",
              "      <td>NaN</td>\n",
              "      <td>NaN</td>\n",
              "      <td>NaN</td>\n",
              "      <td>NaN</td>\n",
              "      <td>NaN</td>\n",
              "      <td>NaN</td>\n",
              "      <td>NaN</td>\n",
              "      <td>1</td>\n",
              "    </tr>\n",
              "    <tr>\n",
              "      <th>2</th>\n",
              "      <td>3</td>\n",
              "      <td>2018</td>\n",
              "      <td>5</td>\n",
              "      <td>7</td>\n",
              "      <td>1</td>\n",
              "      <td>2</td>\n",
              "      <td>2</td>\n",
              "      <td>1</td>\n",
              "      <td>47</td>\n",
              "      <td>1</td>\n",
              "      <td>...</td>\n",
              "      <td>NaN</td>\n",
              "      <td>NaN</td>\n",
              "      <td>NaN</td>\n",
              "      <td>NaN</td>\n",
              "      <td>NaN</td>\n",
              "      <td>NaN</td>\n",
              "      <td>NaN</td>\n",
              "      <td>NaN</td>\n",
              "      <td>NaN</td>\n",
              "      <td>2</td>\n",
              "    </tr>\n",
              "    <tr>\n",
              "      <th>3</th>\n",
              "      <td>4</td>\n",
              "      <td>2018</td>\n",
              "      <td>1</td>\n",
              "      <td>7</td>\n",
              "      <td>1</td>\n",
              "      <td>2</td>\n",
              "      <td>2</td>\n",
              "      <td>1</td>\n",
              "      <td>21</td>\n",
              "      <td>1</td>\n",
              "      <td>...</td>\n",
              "      <td>NaN</td>\n",
              "      <td>NaN</td>\n",
              "      <td>NaN</td>\n",
              "      <td>NaN</td>\n",
              "      <td>NaN</td>\n",
              "      <td>NaN</td>\n",
              "      <td>NaN</td>\n",
              "      <td>NaN</td>\n",
              "      <td>NaN</td>\n",
              "      <td>2</td>\n",
              "    </tr>\n",
              "    <tr>\n",
              "      <th>4</th>\n",
              "      <td>5</td>\n",
              "      <td>2016</td>\n",
              "      <td>8</td>\n",
              "      <td>7</td>\n",
              "      <td>1</td>\n",
              "      <td>2</td>\n",
              "      <td>1</td>\n",
              "      <td>1</td>\n",
              "      <td>99</td>\n",
              "      <td>1</td>\n",
              "      <td>...</td>\n",
              "      <td>NaN</td>\n",
              "      <td>NaN</td>\n",
              "      <td>NaN</td>\n",
              "      <td>NaN</td>\n",
              "      <td>NaN</td>\n",
              "      <td>NaN</td>\n",
              "      <td>NaN</td>\n",
              "      <td>NaN</td>\n",
              "      <td>NaN</td>\n",
              "      <td>2</td>\n",
              "    </tr>\n",
              "  </tbody>\n",
              "</table>\n",
              "<p>5 rows × 806 columns</p>\n",
              "</div>\n",
              "      <button class=\"colab-df-convert\" onclick=\"convertToInteractive('df-53804758-8bef-4fc2-a2b1-c67f7bad4511')\"\n",
              "              title=\"Convert this dataframe to an interactive table.\"\n",
              "              style=\"display:none;\">\n",
              "        \n",
              "  <svg xmlns=\"http://www.w3.org/2000/svg\" height=\"24px\"viewBox=\"0 0 24 24\"\n",
              "       width=\"24px\">\n",
              "    <path d=\"M0 0h24v24H0V0z\" fill=\"none\"/>\n",
              "    <path d=\"M18.56 5.44l.94 2.06.94-2.06 2.06-.94-2.06-.94-.94-2.06-.94 2.06-2.06.94zm-11 1L8.5 8.5l.94-2.06 2.06-.94-2.06-.94L8.5 2.5l-.94 2.06-2.06.94zm10 10l.94 2.06.94-2.06 2.06-.94-2.06-.94-.94-2.06-.94 2.06-2.06.94z\"/><path d=\"M17.41 7.96l-1.37-1.37c-.4-.4-.92-.59-1.43-.59-.52 0-1.04.2-1.43.59L10.3 9.45l-7.72 7.72c-.78.78-.78 2.05 0 2.83L4 21.41c.39.39.9.59 1.41.59.51 0 1.02-.2 1.41-.59l7.78-7.78 2.81-2.81c.8-.78.8-2.07 0-2.86zM5.41 20L4 18.59l7.72-7.72 1.47 1.35L5.41 20z\"/>\n",
              "  </svg>\n",
              "      </button>\n",
              "      \n",
              "  <style>\n",
              "    .colab-df-container {\n",
              "      display:flex;\n",
              "      flex-wrap:wrap;\n",
              "      gap: 12px;\n",
              "    }\n",
              "\n",
              "    .colab-df-convert {\n",
              "      background-color: #E8F0FE;\n",
              "      border: none;\n",
              "      border-radius: 50%;\n",
              "      cursor: pointer;\n",
              "      display: none;\n",
              "      fill: #1967D2;\n",
              "      height: 32px;\n",
              "      padding: 0 0 0 0;\n",
              "      width: 32px;\n",
              "    }\n",
              "\n",
              "    .colab-df-convert:hover {\n",
              "      background-color: #E2EBFA;\n",
              "      box-shadow: 0px 1px 2px rgba(60, 64, 67, 0.3), 0px 1px 3px 1px rgba(60, 64, 67, 0.15);\n",
              "      fill: #174EA6;\n",
              "    }\n",
              "\n",
              "    [theme=dark] .colab-df-convert {\n",
              "      background-color: #3B4455;\n",
              "      fill: #D2E3FC;\n",
              "    }\n",
              "\n",
              "    [theme=dark] .colab-df-convert:hover {\n",
              "      background-color: #434B5C;\n",
              "      box-shadow: 0px 1px 3px 1px rgba(0, 0, 0, 0.15);\n",
              "      filter: drop-shadow(0px 1px 2px rgba(0, 0, 0, 0.3));\n",
              "      fill: #FFFFFF;\n",
              "    }\n",
              "  </style>\n",
              "\n",
              "      <script>\n",
              "        const buttonEl =\n",
              "          document.querySelector('#df-53804758-8bef-4fc2-a2b1-c67f7bad4511 button.colab-df-convert');\n",
              "        buttonEl.style.display =\n",
              "          google.colab.kernel.accessAllowed ? 'block' : 'none';\n",
              "\n",
              "        async function convertToInteractive(key) {\n",
              "          const element = document.querySelector('#df-53804758-8bef-4fc2-a2b1-c67f7bad4511');\n",
              "          const dataTable =\n",
              "            await google.colab.kernel.invokeFunction('convertToInteractive',\n",
              "                                                     [key], {});\n",
              "          if (!dataTable) return;\n",
              "\n",
              "          const docLinkHtml = 'Like what you see? Visit the ' +\n",
              "            '<a target=\"_blank\" href=https://colab.research.google.com/notebooks/data_table.ipynb>data table notebook</a>'\n",
              "            + ' to learn more about interactive tables.';\n",
              "          element.innerHTML = '';\n",
              "          dataTable['output_type'] = 'display_data';\n",
              "          await google.colab.output.renderOutput(dataTable, element);\n",
              "          const docLink = document.createElement('div');\n",
              "          docLink.innerHTML = docLinkHtml;\n",
              "          element.appendChild(docLink);\n",
              "        }\n",
              "      </script>\n",
              "    </div>\n",
              "  </div>\n",
              "  "
            ]
          },
          "metadata": {},
          "execution_count": 528
        }
      ]
    },
    {
      "cell_type": "code",
      "source": [
        "# Percentage of na values in columns\n",
        "data.isna().mean()*100"
      ],
      "metadata": {
        "colab": {
          "base_uri": "https://localhost:8080/",
          "height": 0
        },
        "id": "FMTyo_3x_Va4",
        "outputId": "058b4be0-6d32-41e2-bdf8-b32dda83c2dc"
      },
      "execution_count": 529,
      "outputs": [
        {
          "output_type": "execute_result",
          "data": {
            "text/plain": [
              "ID                                              0.000000\n",
              "Year                                            0.000000\n",
              "Month                                           0.000000\n",
              "Hospital                                        0.000000\n",
              "Sample                                          0.000000\n",
              "                                                 ...    \n",
              "FU_L.interrogansserovarAustralisstr.Ballico    91.204037\n",
              "FU_L.interrogansserovarwolfiistr.3705          91.204037\n",
              "FU_L.interrogansserovarWeerasinghe             91.204037\n",
              "FU_Patoc                                       91.204037\n",
              "Final                                           0.000000\n",
              "Length: 806, dtype: float64"
            ]
          },
          "metadata": {},
          "execution_count": 529
        }
      ]
    },
    {
      "cell_type": "code",
      "source": [
        "# Renaming some columns\n",
        "col_names = {'Muscletendernessonset': 'Mustenderonset', \n",
        "             'Muscletendernessad':'Mustenderad','Vomitingadmission':'Vomitingad',\n",
        "             'Cnsuffusionad':'Consufad','Cnsuffusiononset':'Consufonset', \n",
        "             'Mucosalrashonset':'Mucorashonset','Mucosalrashad':'Mucorashad', \n",
        "             'Diarrhoeaonset':'diarrheaonset','Diarrhoeaad':'diarrheaad', \n",
        "             'OliguriaAd':'Oliguriaad', 'Haemoptasisonset':'Haemoptysisonset',\n",
        "             'Haemoptasisad':'Haemoptysisad', \"SOBadd\": 'SOBad' }\n",
        "data.rename(columns = col_names, inplace=True)"
      ],
      "metadata": {
        "id": "T_gK0PhFiXqm"
      },
      "execution_count": 530,
      "outputs": []
    },
    {
      "cell_type": "code",
      "source": [
        "# There are more than 10 columns for each variable below. Those data will be summarized by taking the number of days the patient had the particular symptom.\n",
        "colnames = ['Headache','Fever','Chills','Rigors','Musclepain','Mustender','Nausea','Vomiting','Consuf','Skinrash','Mucorash','Prostration','diarrhea','Oliguria','Anuria','Jaundice',\n",
        "            'Photophobia','Confusion','Cough','Haemoptysis','SOB','Chestpain','Bleeding']\n",
        "for col in colnames:\n",
        "  df = data[[col+'onset',col + '2',col + '3',col + '4',col + '5',col + '6',col + '7',col + '8',col + '9',col + '10', col + 'ad']]\n",
        "  df = df.replace(99, np.nan)\n",
        "  df['Days'] = None\n",
        "  for index, row in df.iterrows():\n",
        "    if df.loc[index].isna().all() == False:\n",
        "     df.at[index, 'Days'] = df.loc[index].eq(1).sum()\n",
        "    else:\n",
        "     df.at[index, 'Days'] = np.nan\n",
        "  data[col+'Days'] = df['Days']\n",
        "  data.drop([col+'onset',col + '2',col + '3',col + '4',col + '5',col + '6',col + '7',col + '8',col + '9',col + '10', col + 'ad'], axis=1, inplace=True)"
      ],
      "metadata": {
        "id": "bTNUfqubeIcN"
      },
      "execution_count": 531,
      "outputs": []
    },
    {
      "cell_type": "code",
      "source": [
        "col_names = {'Hepatictendernessad':'hepatictenderad', 'Hepatomegalyad':'hepatomegalyad', 'Spleenimegalyad':'Spleenomegalyad', 'Lympadenopathyad':'Lymphadenopathyad'}\n",
        "data.rename(columns = col_names, inplace=True)\n",
        "colnames = ['hepatictender','hepatomegaly','Spleenomegaly','Lymphadenopathy', 'Neckstiffness']\n",
        "for col in colnames:\n",
        "  df = data[[col + '2',col + '3',col + '4',col + '5',col + '6',col + '7',col + '8',col + '9',col + '10', col + 'ad']]\n",
        "  df = df.replace(99, np.nan)\n",
        "  df['Days'] = None\n",
        "  for index, row in df.iterrows():\n",
        "    if df.loc[index].isna().all() == False:\n",
        "     df.at[index, 'Days'] = df.loc[index].eq(1).sum()\n",
        "    else:\n",
        "     df.at[index, 'Days'] = np.nan\n",
        "  data[col+'Days'] = df['Days']\n",
        "  data.drop([col + '2',col + '3',col + '4',col + '5',col + '6',col + '7',col + '8',col + '9',col + '10', col + 'ad'], axis=1, inplace=True)"
      ],
      "metadata": {
        "id": "wF91G4d26jaG"
      },
      "execution_count": 532,
      "outputs": []
    },
    {
      "cell_type": "code",
      "source": [
        "# Columns having more than 70% of missing values will be deleted.\n",
        "missing_percentage = data.isna().mean() * 100\n",
        "columns_to_drop_1 = missing_percentage[missing_percentage > 70].index\n",
        "data = data.drop(columns_to_drop_1, axis=1)"
      ],
      "metadata": {
        "id": "AdF1TzSR7xdZ"
      },
      "execution_count": 533,
      "outputs": []
    },
    {
      "cell_type": "code",
      "source": [
        "drop_cols = ['PRad','SBPadd','DBPadd','Pulserate2','Pulserate3','Pulserate4',\n",
        "             'Pulserate5','Pulserate6','Pulserate7','Pulserate8','Pulserate9',\n",
        "             'Pulserate10','SBP2','DBP2','SBP3','DBP3','SBP4','DBP4','SBP5',\n",
        "             'DBP5','SBP6','DBP6','SBP7','DBP7','SBP8','DBP8','SBP9','DBP9',\n",
        "             'SBP10','DBP10']\n",
        "# Cannot distinguish between actual 99 values and na 99 values\n",
        "data.drop(drop_cols, axis=1, inplace=True)"
      ],
      "metadata": {
        "id": "Sbqp1IDt-5ZG"
      },
      "execution_count": 534,
      "outputs": []
    },
    {
      "cell_type": "markdown",
      "source": [
        "To summarize the data for the platelet, WBC, RBC, neutrophils, and other variables measured for ten days according to the number of days the patient had low, normal, and high counts based on clinical standards, I have followed these steps:\n",
        "\n",
        "1.   Define the cutoff values for low, normal, and high counts for each variable based on clinical standards.\n",
        "2.   Create new columns in the dataset to represent the summarized counts for each variable.(I have used labels such as \"low_count\", \"normal_count\", and \"high_count\".)\n",
        "3.   Iterate through the ten days of measurements for each variable and determine the count of days that fall into the low, normal, and high categories according to the cutoff values. Update the corresponding columns in the dataset accordingly.\n"
      ],
      "metadata": {
        "id": "YSEEZzaldhRe"
      }
    },
    {
      "cell_type": "markdown",
      "source": [
        "**Platelet count levels**\n",
        "\n",
        "*   Normal - [150 000, 450 000]\n",
        "*   Mild thrombocytopenia - [101 000, 140 000]\n",
        "*   Moderate thrombocytopenia - [51 000, 100 000]\n",
        "*   Severe thrombocytopenia - [21 000, 51 000]\n",
        "\n",
        "No of days with platelet counts for each levels will be recorded.\n"
      ],
      "metadata": {
        "id": "D_mqIp9_De3v"
      }
    },
    {
      "cell_type": "code",
      "source": [
        "col = 'Platelet'\n",
        "colnames = [col + 'count', col + '2',col + '3',col + '4',col + '5',col + '6',col + '7',col + '8',col + '9',col + '10']\n",
        "platelet = data[colnames]\n",
        "platelet = platelet.replace(99, np.nan)\n",
        "\n",
        "def normal_plat(row):\n",
        "    if row.isna().all():\n",
        "        return np.nan\n",
        "    else:\n",
        "        count = sum(150000 <= val <= 450000 for val in row if not pd.isna(val))\n",
        "        return count\n",
        "\n",
        "def mildlow_plat(row):\n",
        "    if row.isna().all():\n",
        "        return np.nan\n",
        "    else:\n",
        "        count = sum(101000 <= val < 150000 for val in row if not pd.isna(val))\n",
        "        return count\n",
        "\n",
        "def moderatelow_plat(row):\n",
        "    if row.isna().all():\n",
        "        return np.nan\n",
        "    else:\n",
        "        count = sum(51000 <= val < 101000 for val in row if not pd.isna(val))\n",
        "        return count\n",
        "\n",
        "def severelow_plat(row):\n",
        "    if row.isna().all():\n",
        "        return np.nan\n",
        "    else:\n",
        "        count = sum(val < 51000 for val in row if not pd.isna(val))\n",
        "        return count\n",
        "\n",
        "# Apply the condition functions to each row\n",
        "normal_platelet = platelet.apply(normal_plat, axis=1)\n",
        "mildlow_platelet = platelet.apply(mildlow_plat, axis=1)\n",
        "moderatelow_platelet = platelet.apply(moderatelow_plat, axis=1)\n",
        "severelow_platelet = platelet.apply(severelow_plat, axis=1)\n",
        "\n",
        "data['normal_platelet'] = normal_platelet\n",
        "data['mildlow_platelet'] = mildlow_platelet\n",
        "data['moderatelow_platelet'] = moderatelow_platelet\n",
        "data['severelow_platelet'] = severelow_platelet\n",
        "\n",
        "data.drop(colnames, axis = 1, inplace = True)\n"
      ],
      "metadata": {
        "id": "3lLqEc2QHGJu"
      },
      "execution_count": 535,
      "outputs": []
    },
    {
      "cell_type": "markdown",
      "source": [
        "**WBC Count**\n",
        "\n",
        "*   Normal - [4 000, 11 000]\n",
        "*   Low - < 4000\n",
        "*   High - >11 000\n",
        "\n",
        "\n",
        "\n",
        "\n",
        "\n"
      ],
      "metadata": {
        "id": "Ta4ShPTqXmLD"
      }
    },
    {
      "cell_type": "code",
      "source": [
        "col = 'WBCcount'\n",
        "colnames = ['WBCcount', col + '2',col + '3',col + '4',col + '5',col + '6',col + '7',col + '8',col + '9',col + '10']\n",
        "wbc = data[colnames]\n",
        "wbc = wbc.replace(99, np.nan)\n",
        "\n",
        "\n",
        "def normal_wbc(row):\n",
        "    if row.isna().all():\n",
        "        return np.nan\n",
        "    else:\n",
        "        count = sum(4000 <= val <= 11000 for val in row if not pd.isna(val))\n",
        "        return count\n",
        "\n",
        "def low_wbc(row):\n",
        "    if row.isna().all():\n",
        "        return np.nan\n",
        "    else:\n",
        "        count = sum(val < 4000 for val in row if not pd.isna(val))\n",
        "        return count\n",
        "\n",
        "def high_wbc(row):\n",
        "    if row.isna().all():\n",
        "        return np.nan\n",
        "    else:\n",
        "        count = sum(11000 < val for val in row if not pd.isna(val))\n",
        "        return count\n",
        "\n",
        "# Apply the condition functions to each row\n",
        "normal_wbcc = wbc.apply(normal_wbc, axis=1)\n",
        "low_wbcc = wbc.apply(low_wbc, axis=1)\n",
        "high_wbcc = wbc.apply(high_wbc, axis=1)\n",
        "\n",
        "\n",
        "data['normal_wbc'] = normal_wbcc\n",
        "data['low_wbc'] = low_wbcc\n",
        "data['high_wbc'] = high_wbcc\n",
        "\n",
        "\n",
        "data.drop(colnames, axis = 1, inplace = True)"
      ],
      "metadata": {
        "id": "1w9lHNCeWADf"
      },
      "execution_count": 536,
      "outputs": []
    },
    {
      "cell_type": "markdown",
      "source": [
        "**Neutrophils**\n",
        "\n",
        "*   Normal - [2500, 7000]\n",
        "*   Low - < 2500\n",
        "*   High - > 7000\n",
        "\n",
        "\n",
        "\n",
        "\n"
      ],
      "metadata": {
        "id": "yido2m5pb1Ln"
      }
    },
    {
      "cell_type": "code",
      "source": [
        "col = 'Ncount'\n",
        "colnames = ['Ncount', col + '2',col + '3',col + '4',col + '5',col + '6',col + '7',col + '8',col + '9',col + '10']\n",
        "Nc = data[colnames]\n",
        "Nc = Nc.replace(99, np.nan)\n",
        "\n",
        "\n",
        "def normal_Nc(row):\n",
        "    if row.isna().all():\n",
        "        return np.nan\n",
        "    else:\n",
        "        count = sum(2500 <= val <= 7000 for val in row if not pd.isna(val))\n",
        "        return count\n",
        "\n",
        "def low_Nc(row):\n",
        "    if row.isna().all():\n",
        "        return np.nan\n",
        "    else:\n",
        "        count = sum(val < 2500 for val in row if not pd.isna(val))\n",
        "        return count\n",
        "\n",
        "def high_Nc(row):\n",
        "    if row.isna().all():\n",
        "        return np.nan\n",
        "    else:\n",
        "        count = sum(7000 < val for val in row if not pd.isna(val))\n",
        "        return count\n",
        "\n",
        "# Apply the condition functions to each row\n",
        "normal_NC = Nc.apply(normal_Nc, axis=1)\n",
        "low_NC = Nc.apply(low_Nc, axis=1)\n",
        "high_NC = Nc.apply(high_Nc, axis=1)\n",
        "\n",
        "\n",
        "data['normal_Nc'] = normal_NC\n",
        "data['low_Nc'] = low_NC\n",
        "data['high_Nc'] = high_NC\n",
        "\n",
        "\n",
        "data.drop(colnames, axis = 1, inplace = True)"
      ],
      "metadata": {
        "id": "BRwEs1krbepT"
      },
      "execution_count": 537,
      "outputs": []
    },
    {
      "cell_type": "markdown",
      "source": [
        "**Lymphocytes**\n",
        "\n",
        "*   Normal - [1000,4800]\n",
        "*   Low - < 1000\n",
        "*   High - > 4800\n",
        "\n",
        "\n",
        "\n",
        "\n"
      ],
      "metadata": {
        "id": "FtJnxFC2eSqY"
      }
    },
    {
      "cell_type": "code",
      "source": [
        "col = 'Lcount'\n",
        "colnames = ['Lcount', col + '2',col + '3',col + '4',col + '5',col + '6',col + '7',col + '8',col + '9',col + '10']\n",
        "Lc = data[colnames]\n",
        "Lc = Lc.replace(99, np.nan)\n",
        "\n",
        "\n",
        "def normal_Lc(row):\n",
        "    if row.isna().all():\n",
        "        return np.nan\n",
        "    else:\n",
        "        count = sum(1000 <= val <= 4800 for val in row if not pd.isna(val))\n",
        "        return count\n",
        "\n",
        "def low_Lc(row):\n",
        "    if row.isna().all():\n",
        "        return np.nan\n",
        "    else:\n",
        "        count = sum(val < 1000 for val in row if not pd.isna(val))\n",
        "        return count\n",
        "\n",
        "def high_Lc(row):\n",
        "    if row.isna().all():\n",
        "        return np.nan\n",
        "    else:\n",
        "        count = sum(4800 < val for val in row if not pd.isna(val))\n",
        "        return count\n",
        "\n",
        "# Apply the condition functions to each row\n",
        "normal_LC = Lc.apply(normal_Lc, axis=1)\n",
        "low_LC = Lc.apply(low_Lc, axis=1)\n",
        "high_LC = Lc.apply(high_Lc, axis=1)\n",
        "\n",
        "\n",
        "data['normal_Lc'] = normal_LC\n",
        "data['low_Lc'] = low_LC\n",
        "data['high_Lc'] = high_LC\n",
        "\n",
        "data.drop(colnames, axis = 1, inplace = True)"
      ],
      "metadata": {
        "id": "rNJnCXrhdaT3"
      },
      "execution_count": 538,
      "outputs": []
    },
    {
      "cell_type": "markdown",
      "source": [
        "**Red Blood Count (RBC)**\n",
        "\n",
        "*   Normal - [4.2M, 6.1M]\n",
        "\n"
      ],
      "metadata": {
        "id": "pnHdF0A9kW9Q"
      }
    },
    {
      "cell_type": "code",
      "source": [
        "col = 'RBC'\n",
        "colnames = ['RBC', col + '2',col + '3',col + '4',col + '5',col + '6',col + '7',col + '8',col + '9',col + '10']\n",
        "rbc = data[colnames]\n",
        "rbc = rbc.replace(99, np.nan)\n",
        "\n",
        "\n",
        "def normal_rbc(row):\n",
        "    if row.isna().all():\n",
        "        return np.nan\n",
        "    else:\n",
        "        count = sum(4200000 <= val <= 6100000 for val in row if not pd.isna(val))\n",
        "        return count\n",
        "\n",
        "def low_rbc(row):\n",
        "    if row.isna().all():\n",
        "        return np.nan\n",
        "    else:\n",
        "        count = sum(val < 4200000 for val in row if not pd.isna(val))\n",
        "        return count\n",
        "\n",
        "def high_rbc(row):\n",
        "    if row.isna().all():\n",
        "        return np.nan\n",
        "    else:\n",
        "        count = sum(6100000 < val for val in row if not pd.isna(val))\n",
        "        return count\n",
        "\n",
        "# Apply the condition functions to each row\n",
        "normal_rbcc = rbc.apply(normal_rbc, axis=1)\n",
        "low_rbcc = rbc.apply(low_rbc, axis=1)\n",
        "high_rbcc = rbc.apply(high_rbc, axis=1)\n",
        "\n",
        "\n",
        "data['normal_rbc'] = normal_rbcc\n",
        "data['low_rbc'] = low_rbcc\n",
        "data['high_rbc'] = high_rbcc\n",
        "\n",
        "data.drop(colnames, axis = 1, inplace = True)"
      ],
      "metadata": {
        "id": "VcXm5Y8UkOMa"
      },
      "execution_count": 539,
      "outputs": []
    },
    {
      "cell_type": "code",
      "source": [
        "# Pus cells doesn't indicate any unsual case and there are na values for more than approximately 1000 cases. Hence those columns will be dropped.\n",
        "col = 'Puscells'\n",
        "colnames = ['Puscells', col + '2',col + '3',col + '4',col + '5',col + '6',col + '7',col + '8',col + '9',col + '10']\n",
        "data.drop(colnames, axis = 1, inplace = True)"
      ],
      "metadata": {
        "id": "Kmkf2T9UmDSA"
      },
      "execution_count": 540,
      "outputs": []
    },
    {
      "cell_type": "code",
      "source": [
        "drop_cols = ['PulseRate','PulseRhythem','WBC_first_day','WBCCount1','ALP', 'Sphosphate', 'Samylase']\n",
        "# Cannot distinguish between actual 99 values and na 99 values\n",
        "data.drop(drop_cols, axis=1, inplace=True)"
      ],
      "metadata": {
        "id": "rLP6OFDliXF0"
      },
      "execution_count": 541,
      "outputs": []
    },
    {
      "cell_type": "markdown",
      "source": [
        "**Red Cells**\n",
        "\n",
        "*   Normal is 4\n",
        "\n",
        "\n"
      ],
      "metadata": {
        "id": "Jd8oBK3mrBF3"
      }
    },
    {
      "cell_type": "code",
      "source": [
        "col = 'Redcells'\n",
        "colnames = ['Redcells', col + '2',col + '3',col + '4',col + '5',col + '6',col + '7',col + '8',col + '9',col + '10']\n",
        "rc = data[colnames]\n",
        "\n",
        "# Loop through each column\n",
        "for col in colnames:\n",
        "    # Replace string values with NaN\n",
        "    rc[col] = pd.to_numeric(rc[col], errors='coerce')\n",
        "    # Convert the column to the integer type\n",
        "    rc[col] = rc[col].astype('Int64')\n",
        "\n",
        "rc = rc.replace(99, np.nan)\n"
      ],
      "metadata": {
        "id": "zeYdWLDMkKvG"
      },
      "execution_count": 542,
      "outputs": []
    },
    {
      "cell_type": "code",
      "source": [
        "def normal_rc(row):\n",
        "    if row.isna().all():\n",
        "        return np.nan\n",
        "    else:\n",
        "        count = sum(val == 4 for val in row if not pd.isna(val))\n",
        "        return count\n",
        "\n",
        "def low_rc(row):\n",
        "    if row.isna().all():\n",
        "        return np.nan\n",
        "    else:\n",
        "        count = sum(val < 4 for val in row if not pd.isna(val))\n",
        "        return count\n",
        "\n",
        "def high_rc(row):\n",
        "    if row.isna().all():\n",
        "        return np.nan\n",
        "    else:\n",
        "        count = sum(4 < val for val in row if not pd.isna(val))\n",
        "        return count\n",
        "\n",
        "# Apply the condition functions to each row\n",
        "normal_rcc = rc.apply(normal_rc, axis=1)\n",
        "low_rcc = rc.apply(low_rc, axis=1)\n",
        "high_rcc = rc.apply(high_rc, axis=1)\n",
        "\n",
        "\n",
        "data['normal_rc'] = normal_rcc\n",
        "data['low_rc'] = low_rcc\n",
        "data['high_rc'] = high_rcc\n",
        "\n",
        "data.drop(colnames, axis = 1, inplace = True)"
      ],
      "metadata": {
        "id": "euPHGRh9svgv"
      },
      "execution_count": 543,
      "outputs": []
    },
    {
      "cell_type": "markdown",
      "source": [
        "**Neutrophils percentage**\n",
        "\n",
        "*   Normal - 40% t0 60%\n",
        "\n",
        "\n"
      ],
      "metadata": {
        "id": "xGAxiPWVwWyV"
      }
    },
    {
      "cell_type": "code",
      "source": [
        "col = 'N'\n",
        "colnames = ['N', col + '2',col + '3',col + '4',col + '5',col + '6',col + '7',col + '8',col + '9',col + '10']\n",
        "Np = data[colnames]\n",
        "Np = Np.replace(99, np.nan)\n",
        "\n",
        "\n",
        "def normal_Np(row):\n",
        "    if row.isna().all():\n",
        "        return np.nan\n",
        "    else:\n",
        "        count = sum(40 <= val <= 60 for val in row if not pd.isna(val))\n",
        "        return count\n",
        "\n",
        "def low_Np(row):\n",
        "    if row.isna().all():\n",
        "        return np.nan\n",
        "    else:\n",
        "        count = sum(val < 40 for val in row if not pd.isna(val))\n",
        "        return count\n",
        "\n",
        "def high_Np(row):\n",
        "    if row.isna().all():\n",
        "        return np.nan\n",
        "    else:\n",
        "        count = sum(60 < val for val in row if not pd.isna(val))\n",
        "        return count\n",
        "\n",
        "# Apply the condition functions to each row\n",
        "normal_NP = Np.apply(normal_Np, axis=1)\n",
        "low_NP = Np.apply(low_Np, axis=1)\n",
        "high_NP = Np.apply(high_Np, axis=1)\n",
        "\n",
        "\n",
        "data['normal_Np'] = normal_NP\n",
        "data['low_Np'] = low_NP\n",
        "data['high_Np'] = high_NP\n",
        "\n",
        "data.drop(colnames, axis = 1, inplace = True)"
      ],
      "metadata": {
        "id": "poSucK7VwiOF"
      },
      "execution_count": 544,
      "outputs": []
    },
    {
      "cell_type": "markdown",
      "source": [
        "**Lymphocytes percentage**\n",
        "\n",
        "*   Normal - 20% to 40%\n",
        "\n",
        "\n"
      ],
      "metadata": {
        "id": "_GgrEwkzyAnC"
      }
    },
    {
      "cell_type": "code",
      "source": [
        "col = 'L'\n",
        "colnames = ['L', col + '2',col + '3',col + '4',col + '5',col + '6',col + '7',col + '8',col + '9',col + '10']\n",
        "Lp = data[colnames]\n",
        "Lp = Lp.replace(99, np.nan)\n",
        "\n",
        "\n",
        "def normal_Lp(row):\n",
        "    if row.isna().all():\n",
        "        return np.nan\n",
        "    else:\n",
        "        count = sum(20 <= val <= 40 for val in row if not pd.isna(val))\n",
        "        return count\n",
        "\n",
        "def low_Lp(row):\n",
        "    if row.isna().all():\n",
        "        return np.nan\n",
        "    else:\n",
        "        count = sum(val < 20 for val in row if not pd.isna(val))\n",
        "        return count\n",
        "\n",
        "def high_Lp(row):\n",
        "    if row.isna().all():\n",
        "        return np.nan\n",
        "    else:\n",
        "        count = sum(40 < val for val in row if not pd.isna(val))\n",
        "        return count\n",
        "\n",
        "# Apply the condition functions to each row\n",
        "normal_LP = Lp.apply(normal_Lp, axis=1)\n",
        "low_LP = Lp.apply(low_Lp, axis=1)\n",
        "high_LP = Lp.apply(high_Lp, axis=1)\n",
        "\n",
        "\n",
        "data['normal_Lp'] = normal_LP\n",
        "data['low_Lp'] = low_LP\n",
        "data['high_Lp'] = high_LP\n",
        "\n",
        "data.drop(colnames, axis = 1, inplace = True)"
      ],
      "metadata": {
        "id": "6JO6S8y4x0_q"
      },
      "execution_count": 545,
      "outputs": []
    },
    {
      "cell_type": "markdown",
      "source": [
        "**PCV**\n",
        "\n",
        "*   Normal - 35.5% to 48.6%\n",
        "\n",
        "\n"
      ],
      "metadata": {
        "id": "E9OepvZnzybj"
      }
    },
    {
      "cell_type": "code",
      "source": [
        "col = 'PCV'\n",
        "colnames = ['PCV', col + '2',col + '3',col + '4',col + '5',col + '6',col + '7',col + '8',col + '9',col + '10']\n",
        "pcv = data[colnames]\n",
        "pcv = pcv.replace(99, np.nan)\n",
        "\n",
        "\n",
        "def normal_pcv(row):\n",
        "    if row.isna().all():\n",
        "        return np.nan\n",
        "    else:\n",
        "        count = sum(35.5 <= val <= 48.6 for val in row if not pd.isna(val))\n",
        "        return count\n",
        "\n",
        "def low_pcv(row):\n",
        "    if row.isna().all():\n",
        "        return np.nan\n",
        "    else:\n",
        "        count = sum(val < 35.5 for val in row if not pd.isna(val))\n",
        "        return count\n",
        "\n",
        "def high_pcv(row):\n",
        "    if row.isna().all():\n",
        "        return np.nan\n",
        "    else:\n",
        "        count = sum(48.6 < val for val in row if not pd.isna(val))\n",
        "        return count\n",
        "\n",
        "# Apply the condition functions to each row\n",
        "normal_pcvp = pcv.apply(normal_pcv, axis=1)\n",
        "low_pcvp = pcv.apply(low_pcv, axis=1)\n",
        "high_pcvp = pcv.apply(high_pcv, axis=1)\n",
        "\n",
        "\n",
        "data['normal_pcv'] = normal_pcvp\n",
        "data['low_pcv'] = low_pcvp\n",
        "data['high_pcv'] = high_pcvp\n",
        "\n",
        "data.drop(colnames, axis = 1, inplace = True)"
      ],
      "metadata": {
        "id": "Rbi6WnBcz8bd"
      },
      "execution_count": 546,
      "outputs": []
    },
    {
      "cell_type": "markdown",
      "source": [
        "**CRP**\n",
        "\n",
        "\n",
        "*   Normal - < 0.9\n",
        "*   Moderate elevation - 1  to 10(mg/dL)\n",
        "*   Marked elevation - > 10\n",
        "*   Severe elevation - > 50\n",
        "\n",
        "\n",
        "\n"
      ],
      "metadata": {
        "id": "OqSD5Uxp1zY2"
      }
    },
    {
      "cell_type": "code",
      "source": [
        "col = 'CRP'\n",
        "colnames = ['CRP', col + '2',col + '3',col + '4',col + '5',col + '6',col + '7',col + '8',col + '9',col + '10']\n",
        "crp = data[colnames]\n",
        "crp = crp.replace(99, np.nan)\n",
        "\n",
        "\n",
        "def normal_crp(row):\n",
        "    if row.isna().all():\n",
        "        return np.nan\n",
        "    else:\n",
        "        count = sum(0.9 <= val for val in row if not pd.isna(val))\n",
        "        return count\n",
        "\n",
        "def moderate_crp(row):\n",
        "    if row.isna().all():\n",
        "        return np.nan\n",
        "    else:\n",
        "        count = sum(0.9 < val <= 10 for val in row if not pd.isna(val))\n",
        "        return count\n",
        "\n",
        "def marked_crp(row):\n",
        "    if row.isna().all():\n",
        "        return np.nan\n",
        "    else:\n",
        "        count = sum(10 < val <= 50 for val in row if not pd.isna(val))\n",
        "        return count\n",
        "\n",
        "def severe_crp(row):\n",
        "    if row.isna().all():\n",
        "        return np.nan\n",
        "    else:\n",
        "        count = sum(50 < val for val in row if not pd.isna(val))\n",
        "        return count\n",
        "\n",
        "# Apply the condition functions to each row\n",
        "normal_crpp = crp.apply(normal_crp, axis=1)\n",
        "moderate_crpp = crp.apply(moderate_crp, axis=1)\n",
        "marked_crpp = crp.apply(marked_crp, axis=1)\n",
        "severe_crpp = crp.apply(severe_crp, axis=1)\n",
        "\n",
        "data['normal_crp'] = normal_crpp\n",
        "data['moderate_crp'] = moderate_crpp\n",
        "data['marked_crp'] = marked_crpp\n",
        "data['severe_crp'] = severe_crpp\n",
        "\n",
        "data.drop(colnames, axis = 1, inplace = True)"
      ],
      "metadata": {
        "id": "t9FSWrGN2XDb"
      },
      "execution_count": 547,
      "outputs": []
    },
    {
      "cell_type": "markdown",
      "source": [
        "**Albumin**\n",
        "\n",
        "*   nil - 0\n",
        "*   trace/occ - 1\n",
        "*   +/++/+++ - 2\n",
        "\n",
        "\n",
        "\n",
        "\n"
      ],
      "metadata": {
        "id": "a_-iMv-H7TY9"
      }
    },
    {
      "cell_type": "code",
      "source": [
        "col = 'Albumin'\n",
        "colnames = ['Albumin', col + '2',col + '3',col + '4',col + '5',col + '6',col + '7',col + '8',col + '9',col + '10']\n",
        "alb = data[colnames]\n",
        "alb = alb.replace(99, np.nan)\n",
        "\n",
        "\n",
        "def nill_alb(row):\n",
        "    if row.isna().all():\n",
        "        return np.nan\n",
        "    else:\n",
        "        count = sum(val == 0 for val in row if not pd.isna(val))\n",
        "        return count\n",
        "\n",
        "def occ_alb(row):\n",
        "    if row.isna().all():\n",
        "        return np.nan\n",
        "    else:\n",
        "        count = sum(val == 1 for val in row if not pd.isna(val))\n",
        "        return count\n",
        "\n",
        "def plus_alb(row):\n",
        "    if row.isna().all():\n",
        "        return np.nan\n",
        "    else:\n",
        "        count = sum(val == 2 for val in row if not pd.isna(val))\n",
        "        return count\n",
        "\n",
        "# Apply the condition functions to each row\n",
        "nill_albc = alb.apply(nill_alb, axis=1)\n",
        "occ_albc = alb.apply(occ_alb, axis=1)\n",
        "plus_albc = alb.apply(plus_alb, axis=1)\n",
        "\n",
        "\n",
        "data['nill_alb'] = nill_albc\n",
        "data['occ_alb'] = occ_albc\n",
        "data['plus_alb'] = plus_albc\n",
        "\n",
        "data.drop(colnames, axis = 1, inplace = True)"
      ],
      "metadata": {
        "id": "k_7zJbak7H9C"
      },
      "execution_count": 548,
      "outputs": []
    },
    {
      "cell_type": "markdown",
      "source": [
        "**Na**\n",
        "\n",
        "*   Normal - 135 to 145(mEq/L)\n",
        "\n"
      ],
      "metadata": {
        "id": "PLvTkuqg9kIr"
      }
    },
    {
      "cell_type": "code",
      "source": [
        "col = 'Na'\n",
        "colnames = ['Na', col + '2',col + '3',col + '4',col + '5',col + '6',col + '7',col + '8',col + '9',col + '10']\n",
        "Na = data[colnames]\n",
        "Na = Na.replace(99, np.nan)\n",
        "\n",
        "\n",
        "def normal_Na(row):\n",
        "    if row.isna().all():\n",
        "        return np.nan\n",
        "    else:\n",
        "        count = sum(135 <= val <= 145 for val in row if not pd.isna(val))\n",
        "        return count\n",
        "\n",
        "def low_Na(row):\n",
        "    if row.isna().all():\n",
        "        return np.nan\n",
        "    else:\n",
        "        count = sum(val < 135 for val in row if not pd.isna(val))\n",
        "        return count\n",
        "\n",
        "def high_Na(row):\n",
        "    if row.isna().all():\n",
        "        return np.nan\n",
        "    else:\n",
        "        count = sum(145 < val for val in row if not pd.isna(val))\n",
        "        return count\n",
        "\n",
        "# Apply the condition functions to each row\n",
        "normal_Nap = Na.apply(normal_Na, axis=1)\n",
        "low_Nap = Na.apply(low_Na, axis=1)\n",
        "high_Nap = Na.apply(high_Na, axis=1)\n",
        "\n",
        "\n",
        "data['normal_Na'] = normal_Nap\n",
        "data['low_Na'] = low_Nap\n",
        "data['high_Na'] = high_Nap\n",
        "\n",
        "data.drop(colnames, axis = 1, inplace = True)"
      ],
      "metadata": {
        "id": "SUefUmhB9uUX"
      },
      "execution_count": 549,
      "outputs": []
    },
    {
      "cell_type": "code",
      "source": [
        "col = 'K'\n",
        "colnames = ['K', col + '2',col + '3',col + '4',col + '5',col + '6',col + '7',col + '8',col + '9',col + '10']\n",
        "K = data[colnames]\n",
        "K = K.replace(99, np.nan)\n",
        "\n",
        "\n",
        "def normal_K(row):\n",
        "    if row.isna().all():\n",
        "        return np.nan\n",
        "    else:\n",
        "        count = sum(3.6 <= val <= 5.2 for val in row if not pd.isna(val))\n",
        "        return count\n",
        "\n",
        "def low_K(row):\n",
        "    if row.isna().all():\n",
        "        return np.nan\n",
        "    else:\n",
        "        count = sum(val < 3.6 for val in row if not pd.isna(val))\n",
        "        return count\n",
        "\n",
        "def high_K(row):\n",
        "    if row.isna().all():\n",
        "        return np.nan\n",
        "    else:\n",
        "        count = sum(5.2 < val for val in row if not pd.isna(val))\n",
        "        return count\n",
        "\n",
        "# Apply the condition functions to each row\n",
        "normal_Kp = K.apply(normal_K, axis=1)\n",
        "low_Kp = K.apply(low_K, axis=1)\n",
        "high_Kp = K.apply(high_K, axis=1)\n",
        "\n",
        "\n",
        "data['normal_K'] = normal_Kp\n",
        "data['low_K'] = low_Kp\n",
        "data['high_K'] = high_Kp\n",
        "\n",
        "data.drop(colnames, axis = 1, inplace = True)"
      ],
      "metadata": {
        "id": "U9-beuTn-nMh"
      },
      "execution_count": 550,
      "outputs": []
    },
    {
      "cell_type": "code",
      "source": [
        "col = 'AST'\n",
        "colnames = ['AST', col + '2',col + '3',col + '4',col + '5',col + '6',col + '7',col + '8',col + '9',col + '10']\n",
        "AST = data[colnames]\n",
        "AST = AST.replace(99, np.nan)\n",
        "\n",
        "\n",
        "def normal_AST(row):\n",
        "    if row.isna().all():\n",
        "        return np.nan\n",
        "    else:\n",
        "        count = sum(8 <= val <= 33 for val in row if not pd.isna(val))\n",
        "        return count\n",
        "\n",
        "def low_AST(row):\n",
        "    if row.isna().all():\n",
        "        return np.nan\n",
        "    else:\n",
        "        count = sum(val < 8 for val in row if not pd.isna(val))\n",
        "        return count\n",
        "\n",
        "def high_AST(row):\n",
        "    if row.isna().all():\n",
        "        return np.nan\n",
        "    else:\n",
        "        count = sum(33 < val for val in row if not pd.isna(val))\n",
        "        return count\n",
        "\n",
        "# Apply the condition functions to each row\n",
        "normal_ASTp = AST.apply(normal_AST, axis=1)\n",
        "low_ASTp = AST.apply(low_AST, axis=1)\n",
        "high_ASTp = AST.apply(high_AST, axis=1)\n",
        "\n",
        "\n",
        "data['normal_AST'] = normal_ASTp\n",
        "data['low_AST'] = low_ASTp\n",
        "data['high_AST'] = high_ASTp\n",
        "\n",
        "data.drop(colnames, axis = 1, inplace = True)"
      ],
      "metadata": {
        "id": "rjTFR8aN_bmS"
      },
      "execution_count": 551,
      "outputs": []
    },
    {
      "cell_type": "code",
      "source": [
        "col = 'T.Bilirub'\n",
        "colnames = ['T.Bilirubin', col + '2',col + '3',col + '4',col + '5',col + '6',col + '7',col + '8',col + '9',col + '10']\n",
        "TBil = data[colnames]\n",
        "TBil = TBil.replace(99, np.nan)\n",
        "\n",
        "\n",
        "def normal_TBil(row):\n",
        "    if row.isna().all():\n",
        "        return np.nan\n",
        "    else:\n",
        "        count = sum(val <= 1.2 for val in row if not pd.isna(val))\n",
        "        return count\n",
        "\n",
        "def high_TBil(row):\n",
        "    if row.isna().all():\n",
        "        return np.nan\n",
        "    else:\n",
        "        count = sum(1.2 < val for val in row if not pd.isna(val))\n",
        "        return count\n",
        "\n",
        "# Apply the condition functions to each row\n",
        "normal_TBilp = TBil.apply(normal_TBil, axis=1)\n",
        "high_TBilp = TBil.apply(high_TBil, axis=1)\n",
        "\n",
        "\n",
        "data['normal_TBil'] = normal_TBilp\n",
        "data['high_TBil'] = high_TBilp\n",
        "\n",
        "data.drop(colnames, axis = 1, inplace = True)"
      ],
      "metadata": {
        "id": "WfuPm9EZCceo"
      },
      "execution_count": 552,
      "outputs": []
    },
    {
      "cell_type": "code",
      "source": [
        "col = 'D.Bilirub'\n",
        "colnames = ['D.Bilirubin', col + '2',col + '3',col + '4',col + '5',col + '6',col + '7',col + '8',col + '9',col + '10']\n",
        "DBil = data[colnames]\n",
        "DBil = DBil.replace(99, np.nan)\n",
        "\n",
        "\n",
        "def normal_DBil(row):\n",
        "    if row.isna().all():\n",
        "        return np.nan\n",
        "    else:\n",
        "        count = sum(val <= 5.2 for val in row if not pd.isna(val))\n",
        "        return count\n",
        "\n",
        "def high_DBil(row):\n",
        "    if row.isna().all():\n",
        "        return np.nan\n",
        "    else:\n",
        "        count = sum(5.2 < val for val in row if not pd.isna(val))\n",
        "        return count\n",
        "\n",
        "# Apply the condition functions to each row\n",
        "normal_DBilp = DBil.apply(normal_DBil, axis=1)\n",
        "high_DBilp = DBil.apply(high_DBil, axis=1)\n",
        "\n",
        "\n",
        "data['normal_DBil'] = normal_DBilp\n",
        "data['high_DBil'] = high_DBilp\n",
        "\n",
        "data.drop(colnames, axis = 1, inplace = True)"
      ],
      "metadata": {
        "id": "jLTdxDsvEK6m"
      },
      "execution_count": 553,
      "outputs": []
    },
    {
      "cell_type": "code",
      "source": [
        "col = 'B.Urea'\n",
        "colnames = ['B.urea', col + '2',col + '3',col + '4',col + '5',col + '6',col + '7',col + '8',col + '9',col + '10']\n",
        "data[colnames] = data[colnames].where(data[colnames] < 99, np.nan)\n"
      ],
      "metadata": {
        "id": "En_kH1IVLAWW"
      },
      "execution_count": 554,
      "outputs": []
    },
    {
      "cell_type": "code",
      "source": [
        "BUrea = data[colnames]\n",
        "def normal_BUrea(row):\n",
        "    if row.isna().all():\n",
        "        return np.nan\n",
        "    else:\n",
        "        count = sum(7 <= val <= 20 for val in row if not pd.isna(val))\n",
        "        return count\n",
        "\n",
        "def low_BUrea(row):\n",
        "    if row.isna().all():\n",
        "        return np.nan\n",
        "    else:\n",
        "        count = sum(val < 7 for val in row if not pd.isna(val))\n",
        "        return count\n",
        "\n",
        "def high_BUrea(row):\n",
        "    if row.isna().all():\n",
        "        return np.nan\n",
        "    else:\n",
        "        count = sum(20 < val for val in row if not pd.isna(val))\n",
        "        return count\n",
        "\n",
        "# Apply the condition functions to each row\n",
        "normal_BUreap = BUrea.apply(normal_BUrea, axis=1)\n",
        "low_BUreap = BUrea.apply(low_BUrea, axis=1)\n",
        "high_BUreap = BUrea.apply(high_BUrea, axis=1)\n",
        "\n",
        "\n",
        "data['normal_BUrea'] = normal_BUreap\n",
        "data['low_BUrea'] = low_BUreap\n",
        "data['high_BUrea'] = high_BUreap\n",
        "\n",
        "data.drop(colnames, axis = 1, inplace = True)"
      ],
      "metadata": {
        "id": "U6jGjrzJLtVZ"
      },
      "execution_count": 555,
      "outputs": []
    },
    {
      "cell_type": "code",
      "source": [
        "# ALT can take 99 so it cannot be distinguished between acutal 99 and na\n",
        "col = 'ALT'\n",
        "colnames = ['ALT', col + '2',col + '3',col + '4',col + '5',col + '6',col + '7',col + '8',col + '9',col + '10']\n",
        "data.drop(colnames, axis = 1, inplace = True)"
      ],
      "metadata": {
        "id": "-jvoKd6-BeUp"
      },
      "execution_count": 556,
      "outputs": []
    },
    {
      "cell_type": "code",
      "source": [
        "# ESR can take 99 so it cannot be distinguished between acutal 99 and na\n",
        "col = 'ESR'\n",
        "colnames = ['ESR', col + '2',col + '3',col + '4',col + '5',col + '6',col + '7',col + '8',col + '9',col + '10']\n",
        "data.drop(colnames, axis = 1, inplace = True)"
      ],
      "metadata": {
        "id": "XD0y-oxm5Frq"
      },
      "execution_count": 557,
      "outputs": []
    },
    {
      "cell_type": "code",
      "source": [
        "# Too many missing values\n",
        "data.drop(['Granularcast', 'Leucocytes'], axis = 1, inplace = True)"
      ],
      "metadata": {
        "id": "Y8V_7WRG52MY"
      },
      "execution_count": 558,
      "outputs": []
    },
    {
      "cell_type": "code",
      "source": [
        "# ESR can take 99 so it cannot be distinguished between acutal 99 and na\n",
        "col = 'GT'\n",
        "colnames = ['X.GT', col + '2',col + '3',col + '4',col + '5',col + '6',col + '7',col + '8',col + '9',col + '10']\n",
        "data.drop(colnames, axis = 1, inplace = True)\n",
        "\n",
        "# S.Cr\n",
        "col = 'S.Cr'\n",
        "colnames = ['S.creatinine', col + '2',col + '3',col + '4',col + '5',col + '6',col + '7',col + '8',col + '9',col + '10']\n",
        "data.drop(colnames, axis = 1, inplace = True)"
      ],
      "metadata": {
        "id": "qgNDhRJOHDfB"
      },
      "execution_count": 559,
      "outputs": []
    },
    {
      "cell_type": "code",
      "source": [
        "cols = ['S.amylase', 'S.phosphate','ALP']\n",
        "for col in cols:\n",
        "  colname = [col + '2',col + '3',col + '4',col + '5',col + '6',col + '7',col + '8',col + '9',col + '10']\n",
        "  data.drop(colname, axis = 1, inplace = True)\n"
      ],
      "metadata": {
        "id": "NDSysBl5Jp_U"
      },
      "execution_count": 560,
      "outputs": []
    },
    {
      "cell_type": "code",
      "source": [
        "data = data.drop('ID', axis=1)\n",
        "data = data.replace(99, np.nan)\n",
        "data.isna().sum()"
      ],
      "metadata": {
        "id": "0djW89VCnuNS",
        "colab": {
          "base_uri": "https://localhost:8080/",
          "height": 0
        },
        "outputId": "14f2a215-27b9-41cb-85ef-d60b3852d21f"
      },
      "execution_count": 561,
      "outputs": [
        {
          "output_type": "execute_result",
          "data": {
            "text/plain": [
              "Year               0\n",
              "Month              0\n",
              "Hospital           0\n",
              "Sample             0\n",
              "ICU               83\n",
              "                ... \n",
              "normal_DBil     1010\n",
              "high_DBil       1010\n",
              "normal_BUrea     727\n",
              "low_BUrea        727\n",
              "high_BUrea       727\n",
              "Length: 219, dtype: int64"
            ]
          },
          "metadata": {},
          "execution_count": 561
        }
      ]
    },
    {
      "cell_type": "markdown",
      "source": [
        "Variables related to the patient's living or working environment have been recorded. To simplify the representation, a single column was created for each category. If the patient had any encounter in their home, workplace, or neighborhood, the outcome of the variable was recorded as 1."
      ],
      "metadata": {
        "id": "dXc0oZQ6enwS"
      }
    },
    {
      "cell_type": "code",
      "source": [
        "cols = ['HomeStreamrivercanaloranyotherrunningwatersource', \n",
        "        'WorkplaceStreamrivercanaloranyotherrunningwatersource',\n",
        "        'Homepondlaketankoranyotherstagnantwatersource',\n",
        "        'WorkPlacepondlaketankoranyotherstagnantwatersource']\n",
        "       \n",
        "anyWaterArea = data[cols]\n",
        "\n",
        "def water_area(row):\n",
        "    if row.isnull().all():\n",
        "        return pd.NA\n",
        "    elif (row == 1).any():\n",
        "        return 1\n",
        "    else:\n",
        "        return 2\n",
        "\n",
        "data['anyWaterArea'] = anyWaterArea.apply(water_area, axis=1)\n",
        "\n",
        "data.drop(cols, axis = 1, inplace = True)\n",
        "\n"
      ],
      "metadata": {
        "id": "tK9w7OBbLDqH"
      },
      "execution_count": 562,
      "outputs": []
    },
    {
      "cell_type": "code",
      "source": [
        "animal = ['rat', 'cat', 'dog', 'cattle', 'pig', 'goat','other']\n",
        "\n",
        "lowercase_data = data.copy()\n",
        "lowercase_data.columns = lowercase_data.columns.str.lower()\n",
        "\n",
        "for col in animal:\n",
        "  data[col] = lowercase_data[col + 'home'] + lowercase_data[col + 'workplace'] + lowercase_data[col + 'neighbourhood']\n",
        "  \n",
        "data.drop(['Rathome','RatWorkplace','RatNeighbourhood','Cathome','Catworkplace',\n",
        "           'CatNeighbourhood','Doghome','DogWorkplace','DogNeighbourhood',\n",
        "           'Cattlehome','CattleWorkplace','CattleNeighbourhood','PigHome',\n",
        "           'PigWorkplace','PigNeighbourhood','GoatHome','GoatWorkplace','GoatNeighbourhood','OtherHome',\n",
        "           'OtherWorkplace','OtherNeighbourhood'], axis = 1, inplace = True)\n"
      ],
      "metadata": {
        "id": "2Yg7rfVJlst9"
      },
      "execution_count": 563,
      "outputs": []
    },
    {
      "cell_type": "code",
      "source": [
        "data = data.rename(columns={'Workplacemarshywet':'Workplacemarshywetland', 'HomeBushes':'Homebushes', 'WorkPlaceworkingpaddyfield':'Workplaceworkingpaddyfield',\n",
        "                            'workplaceotheragricultural':'Workplaceotheragricultural'})\n",
        "\n",
        "cols = ['marshywetland','bushes','forest','workingpaddyfield','abondantpaddyfield',\n",
        "        'otheragricultural','animalfarm','garbageaccumilation','blockeddrainage','sewer']\n",
        "\n",
        "def outcome(row):\n",
        "    if row.isnull().all():\n",
        "        return np.nan\n",
        "    elif (row == 1).any():\n",
        "        return 1\n",
        "    else:\n",
        "        return 2\n",
        "\n",
        "for col in cols:\n",
        "  df = data[['Home' + col, 'Workplace' + col]]\n",
        "  data['any' + col] = df.apply(outcome, axis=1)\n",
        "  data.drop(['Home' + col, 'Workplace' + col], axis = 1, inplace = True)"
      ],
      "metadata": {
        "id": "aiiiAHg6ta1C"
      },
      "execution_count": 564,
      "outputs": []
    },
    {
      "cell_type": "code",
      "source": [
        "data['urumeeya'] = data['Urumeeyahome'] + data['Urumeeyaworkplace'] + data['UrimeeyaNeighbourhood']\n",
        "data['otherRhodents'] = data['OtherrhodentsHome'] + data['OtherRhoddentsWorkplace'] + data['OtherRhodentsNeighbourhood']\n",
        "\n",
        "data.drop(['UrimeeyaNeighbourhood','Urumeeyahome','Urumeeyaworkplace', 'OtherrhodentsHome', 'OtherRhoddentsWorkplace', 'OtherRhodentsNeighbourhood'], axis = 1, inplace=True)"
      ],
      "metadata": {
        "id": "zpH135-Cy0YL"
      },
      "execution_count": 565,
      "outputs": []
    },
    {
      "cell_type": "code",
      "source": [
        "# The number of confirmed test results would be summarized into one column\n",
        "# Diagnosis\n",
        "cols = ['WPqPCRDiagnosis','UrineqPCRDiagnosis','CultureqPCRDia','SerumqPCRDiagnosis','UFqPCRDiag']\n",
        "\n",
        "\n",
        "data['confirmed_diag'] = data[cols].eq(1).sum(axis=1)\n",
        "data['probable_diag'] = data[cols].eq(2).sum(axis=1)\n",
        "data['notdetected_diag'] = data[cols].eq(3).sum(axis=1)\n",
        "\n",
        "data.drop(['UrineqPCRDiagnosis','CultureqPCRDia','SerumqPCRDiagnosis','UFqPCRDiag'], axis = 1, inplace = True)"
      ],
      "metadata": {
        "id": "evZlODFQlxA4"
      },
      "execution_count": 566,
      "outputs": []
    },
    {
      "cell_type": "code",
      "source": [
        "data['Isolate'] = data['Isolate'].replace(98, np.nan)"
      ],
      "metadata": {
        "id": "QwaCXJlTtO0L"
      },
      "execution_count": 567,
      "outputs": []
    },
    {
      "cell_type": "code",
      "source": [
        "missing_percentage = data.isna().mean() * 100\n",
        "columns_to_drop_2 = missing_percentage[missing_percentage > 50].index\n",
        "data = data.drop(columns_to_drop_2, axis=1)"
      ],
      "metadata": {
        "id": "dCdi9WPQp3GM"
      },
      "execution_count": 568,
      "outputs": []
    },
    {
      "cell_type": "code",
      "source": [
        "cat_columns_to_convert = ['Year','Month','Hospital','Sample','ICU','OPD','Sex',\n",
        "                          'Ethnicity','Education','TertiaryEducation','Prophylactics',\n",
        "                          'Pasttreatments','Pastantibiotics','Chronicillness',\n",
        "                          'Possibleexposure','Psychoticsymptomsonset','Psychoticsymptomsad',\n",
        "                          'WPqPCRDiagnosis','Isolate','MAT_set_1','Final']\n",
        "\n",
        "data[cat_columns_to_convert] = data[cat_columns_to_convert].astype('Int64')\n",
        "data[cat_columns_to_convert] = data[cat_columns_to_convert].astype('category')\n",
        "\n",
        "num_columns_to_convert  = data.columns[data.columns.get_loc('HeadacheDays'):]\n",
        "\n",
        "data[num_columns_to_convert] = data[num_columns_to_convert].astype('Int64')"
      ],
      "metadata": {
        "id": "BI6elSFzwTXE"
      },
      "execution_count": 569,
      "outputs": []
    },
    {
      "cell_type": "code",
      "source": [
        "data.shape"
      ],
      "metadata": {
        "id": "6k3RaXiNfkPw",
        "colab": {
          "base_uri": "https://localhost:8080/",
          "height": 0
        },
        "outputId": "80412e17-5205-4ff8-ace8-b46654f6d610"
      },
      "execution_count": 570,
      "outputs": [
        {
          "output_type": "execute_result",
          "data": {
            "text/plain": [
              "(1387, 82)"
            ]
          },
          "metadata": {},
          "execution_count": 570
        }
      ]
    },
    {
      "cell_type": "code",
      "source": [
        "null_percentage = data.isnull().sum(axis=1) / data.shape[1]\n",
        "# Choose rows having less than 50% null data\n",
        "data2 = data[null_percentage < 0.5]"
      ],
      "metadata": {
        "id": "liEN4tLj26ec"
      },
      "execution_count": 571,
      "outputs": []
    },
    {
      "cell_type": "code",
      "source": [
        "data2.shape"
      ],
      "metadata": {
        "colab": {
          "base_uri": "https://localhost:8080/",
          "height": 0
        },
        "id": "MF5oF6PO3W9y",
        "outputId": "a4b744cf-6788-45ba-a593-9470fc9d2896"
      },
      "execution_count": 572,
      "outputs": [
        {
          "output_type": "execute_result",
          "data": {
            "text/plain": [
              "(1088, 82)"
            ]
          },
          "metadata": {},
          "execution_count": 572
        }
      ]
    },
    {
      "cell_type": "markdown",
      "source": [
        "## Imputation"
      ],
      "metadata": {
        "id": "49Aw4MiG-Zfu"
      }
    },
    {
      "cell_type": "code",
      "source": [
        "imp_data2 = data2.copy()\n",
        "\n",
        "categorical_columns = data2.select_dtypes(include='category').columns.tolist()\n",
        "\n",
        "data2_imputed = imp_data2[categorical_columns].fillna(imp_data2[categorical_columns].mode().iloc[0])\n",
        "\n",
        "# Update the original dataframe with the imputed values\n",
        "imp_data2[categorical_columns] = data2_imputed\n",
        "\n",
        "from sklearn.impute import SimpleImputer\n",
        "from sklearn.impute import KNNImputer\n",
        "\n",
        "# Create an instance of SimpleImputer with strategy='mean'\n",
        "imputer = SimpleImputer(strategy='mean')\n",
        "\n",
        "# Fit the imputer on the 'income' column and transform the data\n",
        "imp_data2['Income'] = imputer.fit_transform(imp_data2[['Income']])\n",
        "\n",
        "imputer = KNNImputer(n_neighbors=5)\n",
        "\n",
        "# Fit the imputer on the data and transform the 'age' column\n",
        "imp_data2['Age'] = imputer.fit_transform(imp_data2[['Age']])\n",
        "# Round the imputed values to the nearest integer\n",
        "imp_data2['Age'] = imp_data2['Age'].round().astype(int)\n",
        "\n",
        "columns = imp_data2.columns.tolist()\n",
        "\n",
        "# Find the index of the 'column_x'\n",
        "index = columns.index('Final')\n",
        "\n",
        "missing_columns = columns[index+1:]\n",
        "\n",
        "data_imputed = imp_data2[missing_columns].fillna(imp_data2[missing_columns].mode().iloc[0])\n",
        "\n",
        "# Update the original DataFrame with the imputed values\n",
        "imp_data2[missing_columns] = data_imputed\n"
      ],
      "metadata": {
        "id": "tWzsdQ0r4vhl"
      },
      "execution_count": 573,
      "outputs": []
    },
    {
      "cell_type": "code",
      "source": [
        "imp_data2.isnull().any().sum()"
      ],
      "metadata": {
        "colab": {
          "base_uri": "https://localhost:8080/",
          "height": 0
        },
        "id": "D5qn3IJvg3lM",
        "outputId": "2102a5b9-0522-450f-d350-9c2150eb14fc"
      },
      "execution_count": 574,
      "outputs": [
        {
          "output_type": "execute_result",
          "data": {
            "text/plain": [
              "0"
            ]
          },
          "metadata": {},
          "execution_count": 574
        }
      ]
    },
    {
      "cell_type": "markdown",
      "source": [
        "# Descriptive Analysis"
      ],
      "metadata": {
        "id": "fFskw84f3nCV"
      }
    },
    {
      "cell_type": "code",
      "execution_count": 575,
      "metadata": {
        "colab": {
          "base_uri": "https://localhost:8080/",
          "height": 428
        },
        "id": "aN6aNirW-mMW",
        "outputId": "c6d6c86a-12fa-407e-b147-74fa40219ffb"
      },
      "outputs": [
        {
          "output_type": "display_data",
          "data": {
            "text/plain": [
              "<Figure size 640x480 with 1 Axes>"
            ],
            "image/png": "[encoded data removed]"
          },
          "metadata": {}
        }
      ],
      "source": [
        "import matplotlib.pyplot as plt\n",
        "import seaborn as sns\n",
        "imp_data2['Final'] = imp_data2['Final'].map({1: 'Confirmed', 2: 'Not Detected'})\n",
        "counts = imp_data2['Final'].value_counts()\n",
        "labels = counts.index.tolist()\n",
        "sizes = counts.values.tolist()\n",
        "# Set the color palette\n",
        "sns.set_palette(\"RdBu\")\n",
        "\n",
        "# Plotting the pie chart\n",
        "plt.pie(sizes, labels=labels, autopct='%1.1f%%', startangle=90)\n",
        "plt.axis('equal')  # Equal aspect ratio ensures that pie is drawn as a circle\n",
        "plt.title('Distribution of \"Final\" Variable')\n",
        "\n",
        "# Display the chart\n",
        "plt.show()"
      ]
    },
    {
      "cell_type": "markdown",
      "source": [
        "In the dataset, we can observe that 35.4% of the patients have been diagnosed with leptospirosis."
      ],
      "metadata": {
        "id": "t5UbEewFHxEq"
      }
    },
    {
      "cell_type": "code",
      "execution_count": 576,
      "metadata": {
        "colab": {
          "base_uri": "https://localhost:8080/",
          "height": 616
        },
        "id": "vKuNeTcqC53E",
        "outputId": "73a586b7-b4af-4503-bc53-1e88591adf9b"
      },
      "outputs": [
        {
          "output_type": "stream",
          "name": "stdout",
          "text": [
            "Year              2016      2017      2018      2019\n",
            "Final                                               \n",
            "Confirmed     0.145455  0.451948  0.402597  0.000000\n",
            "Not Detected  0.298720  0.398293  0.295875  0.007112\n"
          ]
        },
        {
          "output_type": "display_data",
          "data": {
            "text/plain": [
              "<Figure size 800x500 with 1 Axes>"
            ],
            "image/png": "[encoded data removed]"
          },
          "metadata": {}
        }
      ],
      "source": [
        "cross_tab_prop = pd.crosstab(index=imp_data2['Final'],\n",
        "                             columns=imp_data2['Year'],\n",
        "                             normalize=\"index\")\n",
        "print(cross_tab_prop)\n",
        "\n",
        "cross_tab_prop.plot(kind='bar', \n",
        "                    stacked=True, \n",
        "                    colormap='RdBu', \n",
        "                    figsize=(8, 5))\n",
        "        \n",
        "plt.legend(loc=\"upper left\", ncol=2)\n",
        "plt.xlabel(\"Leptospirosis Status\")\n",
        "plt.ylabel(\"Proportion\")\n",
        "plt.show()"
      ]
    },
    {
      "cell_type": "markdown",
      "source": [
        "Based on the barplot and cross tabulation, we can see that a significant number of confirmed cases are attributed to the year 2017. Furthermore, the proportions of cases in 2018 and 2017 are relatively similar, indicating a comparable occurrence of confirmed cases during these two years."
      ],
      "metadata": {
        "id": "iIEt5PpsKIH6"
      }
    },
    {
      "cell_type": "code",
      "source": [
        "cross_tab_prop = pd.crosstab(index=imp_data2['Final'],\n",
        "                             columns=imp_data2['Hospital'],\n",
        "                             normalize=\"index\")\n",
        "print(cross_tab_prop)\n",
        "\n",
        "cross_tab_prop.plot(kind='bar', \n",
        "                    stacked=True, \n",
        "                    colormap='RdBu', \n",
        "                    figsize=(8, 5))\n",
        "\n",
        "plt.legend(loc=\"upper left\", ncol=2)\n",
        "plt.xlabel(\"Leptospirosis Status\")\n",
        "plt.ylabel(\"Proportion\")\n",
        "plt.show()"
      ],
      "metadata": {
        "colab": {
          "base_uri": "https://localhost:8080/",
          "height": 616
        },
        "id": "odNSFZl4jj2P",
        "outputId": "0c321090-d6f9-4128-e582-5feffa41c538"
      },
      "execution_count": 577,
      "outputs": [
        {
          "output_type": "stream",
          "name": "stdout",
          "text": [
            "Hospital             1         5         7         8\n",
            "Final                                               \n",
            "Confirmed     0.025974  0.038961  0.748052  0.187013\n",
            "Not Detected  0.113798  0.051209  0.665718  0.169275\n"
          ]
        },
        {
          "output_type": "display_data",
          "data": {
            "text/plain": [
              "<Figure size 800x500 with 1 Axes>"
            ],
            "image/png": "[encoded data removed]"
          },
          "metadata": {}
        }
      ]
    },
    {
      "cell_type": "markdown",
      "source": [
        "The data reveals that the majority of confirmed cases, around 75%, originate from Teaching Hospital Anuradhapura. Factors such as climate, environment, and population density might contribute to the higher incidence of the disease in this region."
      ],
      "metadata": {
        "id": "0w3G_hljMK2R"
      }
    },
    {
      "cell_type": "code",
      "execution_count": 578,
      "metadata": {
        "colab": {
          "base_uri": "https://localhost:8080/",
          "height": 616
        },
        "id": "0QfgytfhcNDM",
        "outputId": "3c19aef6-4c1c-4079-98fa-72a2a4979385"
      },
      "outputs": [
        {
          "output_type": "stream",
          "name": "stdout",
          "text": [
            "WPqPCRDiagnosis  Confirmed  Probable  Not Detected\n",
            "Final                                             \n",
            "Confirmed         0.553247  0.067532      0.379221\n",
            "Not Detected      0.000000  0.172119      0.827881\n"
          ]
        },
        {
          "output_type": "display_data",
          "data": {
            "text/plain": [
              "<Figure size 800x500 with 1 Axes>"
            ],
            "image/png": "[encoded data removed]"
          },
          "metadata": {}
        }
      ],
      "source": [
        "imp_data2['WPqPCRDiagnosis'] = imp_data2['WPqPCRDiagnosis'].map({1: 'Confirmed', 2: 'Probable', 3: 'Not Detected'})\n",
        "cross_tab_prop = pd.crosstab(index=imp_data2['Final'],\n",
        "                             columns=imp_data2['WPqPCRDiagnosis'],\n",
        "                             normalize=\"index\")\n",
        "print(cross_tab_prop)\n",
        "\n",
        "cross_tab_prop.plot(kind='bar', \n",
        "                    stacked=True, \n",
        "                    colormap='tab10', \n",
        "                    figsize=(8, 5))\n",
        "\n",
        "plt.legend(loc=\"upper left\", ncol=2)\n",
        "plt.xlabel(\"Leptospirosis Status\")\n",
        "plt.ylabel(\"Proportion\")\n",
        "plt.show()"
      ]
    },
    {
      "cell_type": "markdown",
      "source": [
        "Around 55% of the confirmed leptospirosis cases show a positive result for Whole blood qPCR and no positive results for cases which are not detected as leptospirosis. It is a highly effective method for detecting and confirming the presence of Leptospira bacteria in the bloodstream. This indicates that Whole blood qPCR can be used as a diagnostic technique for identifying cases of leptospirosis."
      ],
      "metadata": {
        "id": "9YgTgfiPOOHO"
      }
    },
    {
      "cell_type": "code",
      "execution_count": 579,
      "metadata": {
        "colab": {
          "base_uri": "https://localhost:8080/",
          "height": 428
        },
        "id": "Ue98aXNVcccg",
        "outputId": "3337e0fb-f897-4670-a8fd-62a34bbbd3dd"
      },
      "outputs": [
        {
          "output_type": "display_data",
          "data": {
            "text/plain": [
              "<Figure size 640x480 with 1 Axes>"
            ],
            "image/png": "[encoded data removed]"
          },
          "metadata": {}
        }
      ],
      "source": [
        "wpqPCR = imp_data2[imp_data2['Final'] == 'Confirmed']\n",
        "counts = wpqPCR['WPqPCRDiagnosis'].value_counts()\n",
        "labels = counts.index.tolist()\n",
        "sizes = counts.values.tolist()\n",
        "# Set the color palette\n",
        "sns.set_palette(\"RdBu\")\n",
        "\n",
        "# Plotting the pie chart\n",
        "plt.pie(sizes, labels=labels, autopct='%1.1f%%', startangle=90)\n",
        "plt.axis('equal')  # Equal aspect ratio ensures that pie is drawn as a circle\n",
        "plt.title('WPqPCRDiagnosis for Confirmed Cases')\n",
        "\n",
        "# Display the chart\n",
        "plt.show()"
      ]
    },
    {
      "cell_type": "code",
      "execution_count": 580,
      "metadata": {
        "colab": {
          "base_uri": "https://localhost:8080/",
          "height": 2468
        },
        "id": "nqpIFO7AelYg",
        "outputId": "24e41f45-4bd8-46ca-d18c-09c247c35366"
      },
      "outputs": [
        {
          "output_type": "display_data",
          "data": {
            "text/plain": [
              "<Figure size 800x400 with 1 Axes>"
            ],
            "image/png": "[encoded data removed]"
          },
          "metadata": {}
        },
        {
          "output_type": "display_data",
          "data": {
            "text/plain": [
              "<Figure size 800x400 with 1 Axes>"
            ],
            "image/png": "[encoded data removed]"
          },
          "metadata": {}
        },
        {
          "output_type": "display_data",
          "data": {
            "text/plain": [
              "<Figure size 800x400 with 1 Axes>"
            ],
            "image/png": "[encoded data removed]"
          },
          "metadata": {}
        },
        {
          "output_type": "display_data",
          "data": {
            "text/plain": [
              "<Figure size 800x400 with 1 Axes>"
            ],
            "image/png": "[encoded data removed]"
          },
          "metadata": {}
        },
        {
          "output_type": "display_data",
          "data": {
            "text/plain": [
              "<Figure size 800x400 with 1 Axes>"
            ],
            "image/png": "[encoded data removed]"
          },
          "metadata": {}
        },
        {
          "output_type": "display_data",
          "data": {
            "text/plain": [
              "<Figure size 800x400 with 1 Axes>"
            ],
            "image/png": "[encoded data removed]"
          },
          "metadata": {}
        },
        {
          "output_type": "display_data",
          "data": {
            "text/plain": [
              "<Figure size 800x400 with 1 Axes>"
            ],
            "image/png": "[encoded data removed]"
          },
          "metadata": {}
        }
      ],
      "source": [
        "'''variables = imp_data2.columns[imp_data2.columns.get_loc('HeadacheDays'):]\n",
        "\n",
        "for i, variable in enumerate(variables):\n",
        "    plt.figure(figsize=(8, 4))\n",
        "    sns.boxplot(x='Final', y = variable, data=imp_data2)\n",
        "    plt.title(f'Boxplot for {variable}')\n",
        "    plt.show()\n",
        "'''\n",
        "variables = ['Age', 'HeadacheDays','RigorsDays', 'MusclepainDays',\n",
        " 'MustenderDays', 'NauseaDays','normal_platelet']\n",
        "for i, variable in enumerate(variables):\n",
        "    plt.figure(figsize=(8, 4))\n",
        "    sns.boxplot(x='Final', y = variable, data=imp_data2)\n",
        "    plt.title(f'Boxplot for {variable}')\n",
        "    plt.show()\n",
        "\n"
      ]
    },
    {
      "cell_type": "markdown",
      "source": [
        "The boxplots above depict the distribution of certain variables based on the outcome of the 'Final' variable.\n",
        "\n",
        "*   The distribution of age does not exhibit a notable difference between the two categories.\n",
        "*   Patients who were confirmed to have leptospirosis appear to experience a higher number of days with symptoms such as headache, rigors, muscle pains, muscle tenderness, and nausea.\n",
        "\n",
        "\n",
        "\n"
      ],
      "metadata": {
        "id": "StUPKI6_ZACh"
      }
    },
    {
      "cell_type": "code",
      "execution_count": 581,
      "metadata": {
        "colab": {
          "base_uri": "https://localhost:8080/",
          "height": 614
        },
        "id": "l4Vi6L_Pg390",
        "outputId": "d1a8b311-867b-4275-9e1c-a772da229628"
      },
      "outputs": [
        {
          "output_type": "display_data",
          "data": {
            "text/plain": [
              "<Figure size 1000x600 with 2 Axes>"
            ],
            "image/png": "[encoded data removed]"
          },
          "metadata": {}
        }
      ],
      "source": [
        "# Compute the correlation matrix\n",
        "corr_matrix = imp_data2.loc[:, 'normal_wbc':'high_Lc'].corr()\n",
        "\n",
        "# Plot the correlation matrix\n",
        "plt.figure(figsize=(10, 6))\n",
        "sns.heatmap(corr_matrix, annot=True, cmap='coolwarm')\n",
        "plt.title('Correlation Matrix')\n",
        "plt.show()\n"
      ]
    },
    {
      "cell_type": "markdown",
      "source": [
        "Some predictor variables tend to have correlation which can lead to multicollinearity.Feature selection methods will be applied to reduce the impact of correlated predictors."
      ],
      "metadata": {
        "id": "7P1lAjwwa9IB"
      }
    },
    {
      "cell_type": "markdown",
      "source": [
        "# Test data"
      ],
      "metadata": {
        "id": "qbb8j0L2LXk6"
      }
    },
    {
      "cell_type": "code",
      "execution_count": 582,
      "metadata": {
        "colab": {
          "base_uri": "https://localhost:8080/",
          "height": 73
        },
        "outputId": "56937490-1301-4659-91bf-d9ef3f382d38",
        "id": "iySG9XhtLZxt"
      },
      "outputs": [
        {
          "output_type": "display_data",
          "data": {
            "text/plain": [
              "<IPython.core.display.HTML object>"
            ],
            "text/html": [
              "\n",
              "     <input type=\"file\" id=\"files-40662bad-fa71-4a1b-a1f1-f2c5823926d1\" name=\"files[]\" multiple disabled\n",
              "        style=\"border:none\" />\n",
              "     <output id=\"result-40662bad-fa71-4a1b-a1f1-f2c5823926d1\">\n",
              "      Upload widget is only available when the cell has been executed in the\n",
              "      current browser session. Please rerun this cell to enable.\n",
              "      </output>\n",
              "      <script>// Copyright 2017 Google LLC\n",
              "//\n",
              "// Licensed under the Apache License, Version 2.0 (the \"License\");\n",
              "// you may not use this file except in compliance with the License.\n",
              "// You may obtain a copy of the License at\n",
              "//\n",
              "//      http://www.apache.org/licenses/LICENSE-2.0\n",
              "//\n",
              "// Unless required by applicable law or agreed to in writing, software\n",
              "// distributed under the License is distributed on an \"AS IS\" BASIS,\n",
              "// WITHOUT WARRANTIES OR CONDITIONS OF ANY KIND, either express or implied.\n",
              "// See the License for the specific language governing permissions and\n",
              "// limitations under the License.\n",
              "\n",
              "/**\n",
              " * @fileoverview Helpers for google.colab Python module.\n",
              " */\n",
              "(function(scope) {\n",
              "function span(text, styleAttributes = {}) {\n",
              "  const element = document.createElement('span');\n",
              "  element.textContent = text;\n",
              "  for (const key of Object.keys(styleAttributes)) {\n",
              "    element.style[key] = styleAttributes[key];\n",
              "  }\n",
              "  return element;\n",
              "}\n",
              "\n",
              "// Max number of bytes which will be uploaded at a time.\n",
              "const MAX_PAYLOAD_SIZE = 100 * 1024;\n",
              "\n",
              "function _uploadFiles(inputId, outputId) {\n",
              "  const steps = uploadFilesStep(inputId, outputId);\n",
              "  const outputElement = document.getElementById(outputId);\n",
              "  // Cache steps on the outputElement to make it available for the next call\n",
              "  // to uploadFilesContinue from Python.\n",
              "  outputElement.steps = steps;\n",
              "\n",
              "  return _uploadFilesContinue(outputId);\n",
              "}\n",
              "\n",
              "// This is roughly an async generator (not supported in the browser yet),\n",
              "// where there are multiple asynchronous steps and the Python side is going\n",
              "// to poll for completion of each step.\n",
              "// This uses a Promise to block the python side on completion of each step,\n",
              "// then passes the result of the previous step as the input to the next step.\n",
              "function _uploadFilesContinue(outputId) {\n",
              "  const outputElement = document.getElementById(outputId);\n",
              "  const steps = outputElement.steps;\n",
              "\n",
              "  const next = steps.next(outputElement.lastPromiseValue);\n",
              "  return Promise.resolve(next.value.promise).then((value) => {\n",
              "    // Cache the last promise value to make it available to the next\n",
              "    // step of the generator.\n",
              "    outputElement.lastPromiseValue = value;\n",
              "    return next.value.response;\n",
              "  });\n",
              "}\n",
              "\n",
              "/**\n",
              " * Generator function which is called between each async step of the upload\n",
              " * process.\n",
              " * @param {string} inputId Element ID of the input file picker element.\n",
              " * @param {string} outputId Element ID of the output display.\n",
              " * @return {!Iterable<!Object>} Iterable of next steps.\n",
              " */\n",
              "function* uploadFilesStep(inputId, outputId) {\n",
              "  const inputElement = document.getElementById(inputId);\n",
              "  inputElement.disabled = false;\n",
              "\n",
              "  const outputElement = document.getElementById(outputId);\n",
              "  outputElement.innerHTML = '';\n",
              "\n",
              "  const pickedPromise = new Promise((resolve) => {\n",
              "    inputElement.addEventListener('change', (e) => {\n",
              "      resolve(e.target.files);\n",
              "    });\n",
              "  });\n",
              "\n",
              "  const cancel = document.createElement('button');\n",
              "  inputElement.parentElement.appendChild(cancel);\n",
              "  cancel.textContent = 'Cancel upload';\n",
              "  const cancelPromise = new Promise((resolve) => {\n",
              "    cancel.onclick = () => {\n",
              "      resolve(null);\n",
              "    };\n",
              "  });\n",
              "\n",
              "  // Wait for the user to pick the files.\n",
              "  const files = yield {\n",
              "    promise: Promise.race([pickedPromise, cancelPromise]),\n",
              "    response: {\n",
              "      action: 'starting',\n",
              "    }\n",
              "  };\n",
              "\n",
              "  cancel.remove();\n",
              "\n",
              "  // Disable the input element since further picks are not allowed.\n",
              "  inputElement.disabled = true;\n",
              "\n",
              "  if (!files) {\n",
              "    return {\n",
              "      response: {\n",
              "        action: 'complete',\n",
              "      }\n",
              "    };\n",
              "  }\n",
              "\n",
              "  for (const file of files) {\n",
              "    const li = document.createElement('li');\n",
              "    li.append(span(file.name, {fontWeight: 'bold'}));\n",
              "    li.append(span(\n",
              "        `(${file.type || 'n/a'}) - ${file.size} bytes, ` +\n",
              "        `last modified: ${\n",
              "            file.lastModifiedDate ? file.lastModifiedDate.toLocaleDateString() :\n",
              "                                    'n/a'} - `));\n",
              "    const percent = span('0% done');\n",
              "    li.appendChild(percent);\n",
              "\n",
              "    outputElement.appendChild(li);\n",
              "\n",
              "    const fileDataPromise = new Promise((resolve) => {\n",
              "      const reader = new FileReader();\n",
              "      reader.onload = (e) => {\n",
              "        resolve(e.target.result);\n",
              "      };\n",
              "      reader.readAsArrayBuffer(file);\n",
              "    });\n",
              "    // Wait for the data to be ready.\n",
              "    let fileData = yield {\n",
              "      promise: fileDataPromise,\n",
              "      response: {\n",
              "        action: 'continue',\n",
              "      }\n",
              "    };\n",
              "\n",
              "    // Use a chunked sending to avoid message size limits. See b/62115660.\n",
              "    let position = 0;\n",
              "    do {\n",
              "      const length = Math.min(fileData.byteLength - position, MAX_PAYLOAD_SIZE);\n",
              "      const chunk = new Uint8Array(fileData, position, length);\n",
              "      position += length;\n",
              "\n",
              "      const base64 = btoa(String.fromCharCode.apply(null, chunk));\n",
              "      yield {\n",
              "        response: {\n",
              "          action: 'append',\n",
              "          file: file.name,\n",
              "          data: base64,\n",
              "        },\n",
              "      };\n",
              "\n",
              "      let percentDone = fileData.byteLength === 0 ?\n",
              "          100 :\n",
              "          Math.round((position / fileData.byteLength) * 100);\n",
              "      percent.textContent = `${percentDone}% done`;\n",
              "\n",
              "    } while (position < fileData.byteLength);\n",
              "  }\n",
              "\n",
              "  // All done.\n",
              "  yield {\n",
              "    response: {\n",
              "      action: 'complete',\n",
              "    }\n",
              "  };\n",
              "}\n",
              "\n",
              "scope.google = scope.google || {};\n",
              "scope.google.colab = scope.google.colab || {};\n",
              "scope.google.colab._files = {\n",
              "  _uploadFiles,\n",
              "  _uploadFilesContinue,\n",
              "};\n",
              "})(self);\n",
              "</script> "
            ]
          },
          "metadata": {}
        },
        {
          "output_type": "stream",
          "name": "stdout",
          "text": [
            "Saving test.csv to test (5).csv\n"
          ]
        }
      ],
      "source": [
        "uploaded = files.upload()\n",
        "import io\n",
        "\n",
        "testdata_org = pd.read_csv(io.BytesIO(uploaded['test.csv']))"
      ]
    },
    {
      "cell_type": "markdown",
      "source": [
        "## Test Data Preprocessing"
      ],
      "metadata": {
        "id": "5S0ru3gWLZxt"
      }
    },
    {
      "cell_type": "code",
      "source": [
        "testdata = testdata_org.copy()"
      ],
      "metadata": {
        "id": "J-XYS1iVLZxt"
      },
      "execution_count": 583,
      "outputs": []
    },
    {
      "cell_type": "code",
      "source": [
        "testdata.head()"
      ],
      "metadata": {
        "colab": {
          "base_uri": "https://localhost:8080/",
          "height": 299
        },
        "outputId": "71c349f1-9c61-4f99-876f-b103621f2b3f",
        "id": "8ZQO0pJyLZxt"
      },
      "execution_count": 584,
      "outputs": [
        {
          "output_type": "execute_result",
          "data": {
            "text/plain": [
              "   ID  Year  Month  Hospital  Sample  ICU  OPD  Sex  Age  Ethnicity  ...  \\\n",
              "0   1  2017      6         1       1    2    2    1   49          1  ...   \n",
              "1   2  2017      6         1       1    2    2    1   47          1  ...   \n",
              "2   3  2017      6         1       1    2    2    1   51          1  ...   \n",
              "3   4  2017      6         1       1    2    2    2   37          1  ...   \n",
              "4   5  2017      6         1       1    2    1    1   99          1  ...   \n",
              "\n",
              "   FU_L.interrogansserovarIcterohaemorrhagiaestr.RGA  \\\n",
              "0                                                NaN   \n",
              "1                                                NaN   \n",
              "2                                                NaN   \n",
              "3                                                NaN   \n",
              "4                                                NaN   \n",
              "\n",
              "   FU_L.interrogansserovarMankarsostr.Mankarso  \\\n",
              "0                                          NaN   \n",
              "1                                          NaN   \n",
              "2                                          NaN   \n",
              "3                                          NaN   \n",
              "4                                          NaN   \n",
              "\n",
              "   FU_L.santarosaiserovarGeorgiastr.LT117  \\\n",
              "0                                     NaN   \n",
              "1                                     NaN   \n",
              "2                                     NaN   \n",
              "3                                     NaN   \n",
              "4                                     NaN   \n",
              "\n",
              "   FU_L.santarosaiserovarPyrogenesstr.Salinem  \\\n",
              "0                                         NaN   \n",
              "1                                         NaN   \n",
              "2                                         NaN   \n",
              "3                                         NaN   \n",
              "4                                         NaN   \n",
              "\n",
              "   FU_L.interrogansserovarBataviaestr.VanTienan  \\\n",
              "0                                           NaN   \n",
              "1                                           NaN   \n",
              "2                                           NaN   \n",
              "3                                           NaN   \n",
              "4                                           NaN   \n",
              "\n",
              "   FU_L.interrogansserovarAlexistr.616  \\\n",
              "0                                  NaN   \n",
              "1                                  NaN   \n",
              "2                                  NaN   \n",
              "3                                  NaN   \n",
              "4                                  NaN   \n",
              "\n",
              "   FU_L.interrogansserovarAustralisstr.Ballico  \\\n",
              "0                                          NaN   \n",
              "1                                          NaN   \n",
              "2                                          NaN   \n",
              "3                                          NaN   \n",
              "4                                          NaN   \n",
              "\n",
              "   FU_L.interrogansserovarwolfiistr.3705  FU_L.interrogansserovarWeerasinghe  \\\n",
              "0                                    NaN                                 NaN   \n",
              "1                                    NaN                                 NaN   \n",
              "2                                    NaN                                 NaN   \n",
              "3                                    NaN                                 NaN   \n",
              "4                                    NaN                                 NaN   \n",
              "\n",
              "   FU_Patoc  \n",
              "0       NaN  \n",
              "1       NaN  \n",
              "2       NaN  \n",
              "3       NaN  \n",
              "4       NaN  \n",
              "\n",
              "[5 rows x 805 columns]"
            ],
            "text/html": [
              "\n",
              "  <div id=\"df-89e51252-92d8-4623-9441-7a2d429d3b69\">\n",
              "    <div class=\"colab-df-container\">\n",
              "      <div>\n",
              "<style scoped>\n",
              "    .dataframe tbody tr th:only-of-type {\n",
              "        vertical-align: middle;\n",
              "    }\n",
              "\n",
              "    .dataframe tbody tr th {\n",
              "        vertical-align: top;\n",
              "    }\n",
              "\n",
              "    .dataframe thead th {\n",
              "        text-align: right;\n",
              "    }\n",
              "</style>\n",
              "<table border=\"1\" class=\"dataframe\">\n",
              "  <thead>\n",
              "    <tr style=\"text-align: right;\">\n",
              "      <th></th>\n",
              "      <th>ID</th>\n",
              "      <th>Year</th>\n",
              "      <th>Month</th>\n",
              "      <th>Hospital</th>\n",
              "      <th>Sample</th>\n",
              "      <th>ICU</th>\n",
              "      <th>OPD</th>\n",
              "      <th>Sex</th>\n",
              "      <th>Age</th>\n",
              "      <th>Ethnicity</th>\n",
              "      <th>...</th>\n",
              "      <th>FU_L.interrogansserovarIcterohaemorrhagiaestr.RGA</th>\n",
              "      <th>FU_L.interrogansserovarMankarsostr.Mankarso</th>\n",
              "      <th>FU_L.santarosaiserovarGeorgiastr.LT117</th>\n",
              "      <th>FU_L.santarosaiserovarPyrogenesstr.Salinem</th>\n",
              "      <th>FU_L.interrogansserovarBataviaestr.VanTienan</th>\n",
              "      <th>FU_L.interrogansserovarAlexistr.616</th>\n",
              "      <th>FU_L.interrogansserovarAustralisstr.Ballico</th>\n",
              "      <th>FU_L.interrogansserovarwolfiistr.3705</th>\n",
              "      <th>FU_L.interrogansserovarWeerasinghe</th>\n",
              "      <th>FU_Patoc</th>\n",
              "    </tr>\n",
              "  </thead>\n",
              "  <tbody>\n",
              "    <tr>\n",
              "      <th>0</th>\n",
              "      <td>1</td>\n",
              "      <td>2017</td>\n",
              "      <td>6</td>\n",
              "      <td>1</td>\n",
              "      <td>1</td>\n",
              "      <td>2</td>\n",
              "      <td>2</td>\n",
              "      <td>1</td>\n",
              "      <td>49</td>\n",
              "      <td>1</td>\n",
              "      <td>...</td>\n",
              "      <td>NaN</td>\n",
              "      <td>NaN</td>\n",
              "      <td>NaN</td>\n",
              "      <td>NaN</td>\n",
              "      <td>NaN</td>\n",
              "      <td>NaN</td>\n",
              "      <td>NaN</td>\n",
              "      <td>NaN</td>\n",
              "      <td>NaN</td>\n",
              "      <td>NaN</td>\n",
              "    </tr>\n",
              "    <tr>\n",
              "      <th>1</th>\n",
              "      <td>2</td>\n",
              "      <td>2017</td>\n",
              "      <td>6</td>\n",
              "      <td>1</td>\n",
              "      <td>1</td>\n",
              "      <td>2</td>\n",
              "      <td>2</td>\n",
              "      <td>1</td>\n",
              "      <td>47</td>\n",
              "      <td>1</td>\n",
              "      <td>...</td>\n",
              "      <td>NaN</td>\n",
              "      <td>NaN</td>\n",
              "      <td>NaN</td>\n",
              "      <td>NaN</td>\n",
              "      <td>NaN</td>\n",
              "      <td>NaN</td>\n",
              "      <td>NaN</td>\n",
              "      <td>NaN</td>\n",
              "      <td>NaN</td>\n",
              "      <td>NaN</td>\n",
              "    </tr>\n",
              "    <tr>\n",
              "      <th>2</th>\n",
              "      <td>3</td>\n",
              "      <td>2017</td>\n",
              "      <td>6</td>\n",
              "      <td>1</td>\n",
              "      <td>1</td>\n",
              "      <td>2</td>\n",
              "      <td>2</td>\n",
              "      <td>1</td>\n",
              "      <td>51</td>\n",
              "      <td>1</td>\n",
              "      <td>...</td>\n",
              "      <td>NaN</td>\n",
              "      <td>NaN</td>\n",
              "      <td>NaN</td>\n",
              "      <td>NaN</td>\n",
              "      <td>NaN</td>\n",
              "      <td>NaN</td>\n",
              "      <td>NaN</td>\n",
              "      <td>NaN</td>\n",
              "      <td>NaN</td>\n",
              "      <td>NaN</td>\n",
              "    </tr>\n",
              "    <tr>\n",
              "      <th>3</th>\n",
              "      <td>4</td>\n",
              "      <td>2017</td>\n",
              "      <td>6</td>\n",
              "      <td>1</td>\n",
              "      <td>1</td>\n",
              "      <td>2</td>\n",
              "      <td>2</td>\n",
              "      <td>2</td>\n",
              "      <td>37</td>\n",
              "      <td>1</td>\n",
              "      <td>...</td>\n",
              "      <td>NaN</td>\n",
              "      <td>NaN</td>\n",
              "      <td>NaN</td>\n",
              "      <td>NaN</td>\n",
              "      <td>NaN</td>\n",
              "      <td>NaN</td>\n",
              "      <td>NaN</td>\n",
              "      <td>NaN</td>\n",
              "      <td>NaN</td>\n",
              "      <td>NaN</td>\n",
              "    </tr>\n",
              "    <tr>\n",
              "      <th>4</th>\n",
              "      <td>5</td>\n",
              "      <td>2017</td>\n",
              "      <td>6</td>\n",
              "      <td>1</td>\n",
              "      <td>1</td>\n",
              "      <td>2</td>\n",
              "      <td>1</td>\n",
              "      <td>1</td>\n",
              "      <td>99</td>\n",
              "      <td>1</td>\n",
              "      <td>...</td>\n",
              "      <td>NaN</td>\n",
              "      <td>NaN</td>\n",
              "      <td>NaN</td>\n",
              "      <td>NaN</td>\n",
              "      <td>NaN</td>\n",
              "      <td>NaN</td>\n",
              "      <td>NaN</td>\n",
              "      <td>NaN</td>\n",
              "      <td>NaN</td>\n",
              "      <td>NaN</td>\n",
              "    </tr>\n",
              "  </tbody>\n",
              "</table>\n",
              "<p>5 rows × 805 columns</p>\n",
              "</div>\n",
              "      <button class=\"colab-df-convert\" onclick=\"convertToInteractive('df-89e51252-92d8-4623-9441-7a2d429d3b69')\"\n",
              "              title=\"Convert this dataframe to an interactive table.\"\n",
              "              style=\"display:none;\">\n",
              "        \n",
              "  <svg xmlns=\"http://www.w3.org/2000/svg\" height=\"24px\"viewBox=\"0 0 24 24\"\n",
              "       width=\"24px\">\n",
              "    <path d=\"M0 0h24v24H0V0z\" fill=\"none\"/>\n",
              "    <path d=\"M18.56 5.44l.94 2.06.94-2.06 2.06-.94-2.06-.94-.94-2.06-.94 2.06-2.06.94zm-11 1L8.5 8.5l.94-2.06 2.06-.94-2.06-.94L8.5 2.5l-.94 2.06-2.06.94zm10 10l.94 2.06.94-2.06 2.06-.94-2.06-.94-.94-2.06-.94 2.06-2.06.94z\"/><path d=\"M17.41 7.96l-1.37-1.37c-.4-.4-.92-.59-1.43-.59-.52 0-1.04.2-1.43.59L10.3 9.45l-7.72 7.72c-.78.78-.78 2.05 0 2.83L4 21.41c.39.39.9.59 1.41.59.51 0 1.02-.2 1.41-.59l7.78-7.78 2.81-2.81c.8-.78.8-2.07 0-2.86zM5.41 20L4 18.59l7.72-7.72 1.47 1.35L5.41 20z\"/>\n",
              "  </svg>\n",
              "      </button>\n",
              "      \n",
              "  <style>\n",
              "    .colab-df-container {\n",
              "      display:flex;\n",
              "      flex-wrap:wrap;\n",
              "      gap: 12px;\n",
              "    }\n",
              "\n",
              "    .colab-df-convert {\n",
              "      background-color: #E8F0FE;\n",
              "      border: none;\n",
              "      border-radius: 50%;\n",
              "      cursor: pointer;\n",
              "      display: none;\n",
              "      fill: #1967D2;\n",
              "      height: 32px;\n",
              "      padding: 0 0 0 0;\n",
              "      width: 32px;\n",
              "    }\n",
              "\n",
              "    .colab-df-convert:hover {\n",
              "      background-color: #E2EBFA;\n",
              "      box-shadow: 0px 1px 2px rgba(60, 64, 67, 0.3), 0px 1px 3px 1px rgba(60, 64, 67, 0.15);\n",
              "      fill: #174EA6;\n",
              "    }\n",
              "\n",
              "    [theme=dark] .colab-df-convert {\n",
              "      background-color: #3B4455;\n",
              "      fill: #D2E3FC;\n",
              "    }\n",
              "\n",
              "    [theme=dark] .colab-df-convert:hover {\n",
              "      background-color: #434B5C;\n",
              "      box-shadow: 0px 1px 3px 1px rgba(0, 0, 0, 0.15);\n",
              "      filter: drop-shadow(0px 1px 2px rgba(0, 0, 0, 0.3));\n",
              "      fill: #FFFFFF;\n",
              "    }\n",
              "  </style>\n",
              "\n",
              "      <script>\n",
              "        const buttonEl =\n",
              "          document.querySelector('#df-89e51252-92d8-4623-9441-7a2d429d3b69 button.colab-df-convert');\n",
              "        buttonEl.style.display =\n",
              "          google.colab.kernel.accessAllowed ? 'block' : 'none';\n",
              "\n",
              "        async function convertToInteractive(key) {\n",
              "          const element = document.querySelector('#df-89e51252-92d8-4623-9441-7a2d429d3b69');\n",
              "          const dataTable =\n",
              "            await google.colab.kernel.invokeFunction('convertToInteractive',\n",
              "                                                     [key], {});\n",
              "          if (!dataTable) return;\n",
              "\n",
              "          const docLinkHtml = 'Like what you see? Visit the ' +\n",
              "            '<a target=\"_blank\" href=https://colab.research.google.com/notebooks/data_table.ipynb>data table notebook</a>'\n",
              "            + ' to learn more about interactive tables.';\n",
              "          element.innerHTML = '';\n",
              "          dataTable['output_type'] = 'display_data';\n",
              "          await google.colab.output.renderOutput(dataTable, element);\n",
              "          const docLink = document.createElement('div');\n",
              "          docLink.innerHTML = docLinkHtml;\n",
              "          element.appendChild(docLink);\n",
              "        }\n",
              "      </script>\n",
              "    </div>\n",
              "  </div>\n",
              "  "
            ]
          },
          "metadata": {},
          "execution_count": 584
        }
      ]
    },
    {
      "cell_type": "code",
      "source": [
        "col_names = {'Muscletendernessonset': 'Mustenderonset', 'Muscletendernessad':'Mustenderad', 'Vomitingadmission':'Vomitingad','Cnsuffusionad':'Consufad','Cnsuffusiononset':'Consufonset', \n",
        "             'Mucosalrashonset':'Mucorashonset','Mucosalrashad':'Mucorashad', 'Diarrhoeaonset':'diarrheaonset','Diarrhoeaad':'diarrheaad', 'OliguriaAd':'Oliguriaad', 'Haemoptasisonset':'Haemoptysisonset','Haemoptasisad':'Haemoptysisad', \"SOBadd\": 'SOBad' }\n",
        "testdata.rename(columns = col_names, inplace=True)"
      ],
      "metadata": {
        "id": "hol_ToquLZxu"
      },
      "execution_count": 585,
      "outputs": []
    },
    {
      "cell_type": "code",
      "source": [
        "colnames = ['Headache','Fever','Chills','Rigors','Musclepain','Mustender','Nausea','Vomiting','Consuf','Skinrash','Mucorash','Prostration','diarrhea','Oliguria','Anuria','Jaundice',\n",
        "            'Photophobia','Confusion','Cough','Haemoptysis','SOB','Chestpain','Bleeding']\n",
        "for col in colnames:\n",
        "  df = testdata[[col+'onset',col + '2',col + '3',col + '4',col + '5',col + '6',col + '7',col + '8',col + '9',col + '10', col + 'ad']]\n",
        "  df = df.replace(99, np.nan)\n",
        "  df['Days'] = None\n",
        "  for index, row in df.iterrows():\n",
        "    if df.loc[index].isna().all() == False:\n",
        "     df.at[index, 'Days'] = df.loc[index].eq(1).sum()\n",
        "    else:\n",
        "     df.at[index, 'Days'] = np.nan\n",
        "  testdata[col+'Days'] = df['Days']\n",
        "  testdata.drop([col+'onset',col + '2',col + '3',col + '4',col + '5',col + '6',col + '7',col + '8',col + '9',col + '10', col + 'ad'], axis=1, inplace=True)"
      ],
      "metadata": {
        "id": "J1n_keT2LZxu"
      },
      "execution_count": 586,
      "outputs": []
    },
    {
      "cell_type": "code",
      "source": [
        "col_names = {'Hepatictendernessad':'hepatictenderad', 'Hepatomegalyad':'hepatomegalyad', 'Spleenimegalyad':'Spleenomegalyad', 'Lympadenopathyad':'Lymphadenopathyad'}\n",
        "testdata.rename(columns = col_names, inplace=True)\n",
        "colnames = ['hepatictender','hepatomegaly','Spleenomegaly','Lymphadenopathy', 'Neckstiffness']\n",
        "for col in colnames:\n",
        "  df = testdata[[col + '2',col + '3',col + '4',col + '5',col + '6',col + '7',col + '8',col + '9',col + '10', col + 'ad']]\n",
        "  df = df.replace(99, np.nan)\n",
        "  df['Days'] = None\n",
        "  for index, row in df.iterrows():\n",
        "    if df.loc[index].isna().all() == False:\n",
        "     df.at[index, 'Days'] = df.loc[index].eq(1).sum()\n",
        "    else:\n",
        "     df.at[index, 'Days'] = np.nan\n",
        "  testdata[col+'Days'] = df['Days']\n",
        "  testdata.drop([col + '2',col + '3',col + '4',col + '5',col + '6',col + '7',col + '8',col + '9',col + '10', col + 'ad'], axis=1, inplace=True)"
      ],
      "metadata": {
        "id": "qMqEVuUTLZxu"
      },
      "execution_count": 587,
      "outputs": []
    },
    {
      "cell_type": "code",
      "source": [
        "testdata = testdata.drop(columns_to_drop_1, axis=1)"
      ],
      "metadata": {
        "id": "Ti9TNJm6LZxu"
      },
      "execution_count": 588,
      "outputs": []
    },
    {
      "cell_type": "code",
      "source": [
        "drop_cols = ['PRad','SBPadd','DBPadd','Pulserate2','Pulserate3','Pulserate4',\n",
        "             'Pulserate5','Pulserate6','Pulserate7','Pulserate8','Pulserate9',\n",
        "             'Pulserate10','SBP2','DBP2','SBP3','DBP3','SBP4','DBP4','SBP5',\n",
        "             'DBP5','SBP6','DBP6','SBP7','DBP7','SBP8','DBP8','SBP9','DBP9',\n",
        "             'SBP10','DBP10']\n",
        "# Cannot distinguish between actual 99 values and na 99 values\n",
        "testdata.drop(drop_cols, axis=1, inplace=True)"
      ],
      "metadata": {
        "id": "bmBmG_lpLZxu"
      },
      "execution_count": 589,
      "outputs": []
    },
    {
      "cell_type": "code",
      "source": [
        "col = 'Platelet'\n",
        "colnames = [col + 'count', col + '2',col + '3',col + '4',col + '5',col + '6',col + '7',col + '8',col + '9',col + '10']\n",
        "platelet = testdata[colnames]\n",
        "platelet = platelet.replace(99, np.nan)\n",
        "\n",
        "# Apply the condition functions to each row\n",
        "normal_platelet = platelet.apply(normal_plat, axis=1)\n",
        "mildlow_platelet = platelet.apply(mildlow_plat, axis=1)\n",
        "moderatelow_platelet = platelet.apply(moderatelow_plat, axis=1)\n",
        "severelow_platelet = platelet.apply(severelow_plat, axis=1)\n",
        "\n",
        "testdata['normal_platelet'] = normal_platelet\n",
        "testdata['mildlow_platelet'] = mildlow_platelet\n",
        "testdata['moderatelow_platelet'] = moderatelow_platelet\n",
        "testdata['severelow_platelet'] = severelow_platelet\n",
        "\n",
        "testdata.drop(colnames, axis = 1, inplace = True)\n"
      ],
      "metadata": {
        "id": "x4xjEh-NLZxv"
      },
      "execution_count": 590,
      "outputs": []
    },
    {
      "cell_type": "code",
      "source": [
        "col = 'WBCcount'\n",
        "colnames = ['WBCcount', col + '2',col + '3',col + '4',col + '5',col + '6',col + '7',col + '8',col + '9',col + '10']\n",
        "wbc = testdata[colnames]\n",
        "wbc = wbc.replace(99, np.nan)\n",
        "\n",
        "# Apply the condition functions to each row\n",
        "normal_wbcc = wbc.apply(normal_wbc, axis=1)\n",
        "low_wbcc = wbc.apply(low_wbc, axis=1)\n",
        "high_wbcc = wbc.apply(high_wbc, axis=1)\n",
        "\n",
        "\n",
        "testdata['normal_wbc'] = normal_wbcc\n",
        "testdata['low_wbc'] = low_wbcc\n",
        "testdata['high_wbc'] = high_wbcc\n",
        "\n",
        "\n",
        "testdata.drop(colnames, axis = 1, inplace = True)"
      ],
      "metadata": {
        "id": "7wtGgfHsLZxv"
      },
      "execution_count": 591,
      "outputs": []
    },
    {
      "cell_type": "code",
      "source": [
        "col = 'Ncount'\n",
        "colnames = ['Ncount', col + '2',col + '3',col + '4',col + '5',col + '6',col + '7',col + '8',col + '9',col + '10']\n",
        "Nc = testdata[colnames]\n",
        "Nc = Nc.replace(99, np.nan)\n",
        "\n",
        "# Apply the condition functions to each row\n",
        "normal_NC = Nc.apply(normal_Nc, axis=1)\n",
        "low_NC = Nc.apply(low_Nc, axis=1)\n",
        "high_NC = Nc.apply(high_Nc, axis=1)\n",
        "\n",
        "\n",
        "testdata['normal_Nc'] = normal_NC\n",
        "testdata['low_Nc'] = low_NC\n",
        "testdata['high_Nc'] = high_NC\n",
        "\n",
        "\n",
        "testdata.drop(colnames, axis = 1, inplace = True)"
      ],
      "metadata": {
        "id": "ecU7F24ULZxv"
      },
      "execution_count": 592,
      "outputs": []
    },
    {
      "cell_type": "code",
      "source": [
        "col = 'Lcount'\n",
        "colnames = ['Lcount', col + '2',col + '3',col + '4',col + '5',col + '6',col + '7',col + '8',col + '9',col + '10']\n",
        "Lc = testdata[colnames]\n",
        "Lc = Lc.replace(99, np.nan)\n",
        "\n",
        "normal_LC = Lc.apply(normal_Lc, axis=1)\n",
        "low_LC = Lc.apply(low_Lc, axis=1)\n",
        "high_LC = Lc.apply(high_Lc, axis=1)\n",
        "\n",
        "\n",
        "testdata['normal_Lc'] = normal_LC\n",
        "testdata['low_Lc'] = low_LC\n",
        "testdata['high_Lc'] = high_LC\n",
        "\n",
        "testdata.drop(colnames, axis = 1, inplace = True)"
      ],
      "metadata": {
        "id": "n-_eNnvfLZxv"
      },
      "execution_count": 593,
      "outputs": []
    },
    {
      "cell_type": "code",
      "source": [
        "col = 'RBC'\n",
        "colnames = ['RBC', col + '2',col + '3',col + '4',col + '5',col + '6',col + '7',col + '8',col + '9',col + '10']\n",
        "rbc = testdata[colnames]\n",
        "rbc = rbc.replace(99, np.nan)\n",
        "\n",
        "normal_rbcc = rbc.apply(normal_rbc, axis=1)\n",
        "low_rbcc = rbc.apply(low_rbc, axis=1)\n",
        "high_rbcc = rbc.apply(high_rbc, axis=1)\n",
        "\n",
        "\n",
        "testdata['normal_rbc'] = normal_rbcc\n",
        "testdata['low_rbc'] = low_rbcc\n",
        "testdata['high_rbc'] = high_rbcc\n",
        "\n",
        "testdata.drop(colnames, axis = 1, inplace = True)"
      ],
      "metadata": {
        "id": "lpRT8TCrLZxw"
      },
      "execution_count": 594,
      "outputs": []
    },
    {
      "cell_type": "code",
      "source": [
        "col = 'Puscells'\n",
        "colnames = ['Puscells', col + '2',col + '3',col + '4',col + '5',col + '6',col + '7',col + '8',col + '9',col + '10']\n",
        "testdata.drop(colnames, axis = 1, inplace = True)"
      ],
      "metadata": {
        "id": "Ks5NuqKfLZxx"
      },
      "execution_count": 595,
      "outputs": []
    },
    {
      "cell_type": "code",
      "source": [
        "drop_cols = ['PulseRate','PulseRhythem','WBC_first_day','WBCCount1','ALP', 'Sphosphate', 'Samylase']\n",
        "\n",
        "testdata.drop(drop_cols, axis=1, inplace=True)"
      ],
      "metadata": {
        "id": "Qpanjh5aLZxx"
      },
      "execution_count": 596,
      "outputs": []
    },
    {
      "cell_type": "code",
      "source": [
        "col = 'Redcells'\n",
        "colnames = ['Redcells', col + '2',col + '3',col + '4',col + '5',col + '6',col + '7',col + '8',col + '9',col + '10']\n",
        "rc = testdata[colnames]\n",
        "\n",
        "for col in colnames:\n",
        "    rc[col] = pd.to_numeric(rc[col], errors='coerce')\n",
        "    rc[col] = rc[col].astype('Int64')\n",
        "\n",
        "rc = rc.replace(99, np.nan)\n"
      ],
      "metadata": {
        "id": "71fTiCNrLZxx"
      },
      "execution_count": 597,
      "outputs": []
    },
    {
      "cell_type": "code",
      "source": [
        "normal_rcc = rc.apply(normal_rc, axis=1)\n",
        "low_rcc = rc.apply(low_rc, axis=1)\n",
        "high_rcc = rc.apply(high_rc, axis=1)\n",
        "\n",
        "\n",
        "testdata['normal_rc'] = normal_rcc\n",
        "testdata['low_rc'] = low_rcc\n",
        "testdata['high_rc'] = high_rcc\n",
        "\n",
        "testdata.drop(colnames, axis = 1, inplace = True)"
      ],
      "metadata": {
        "id": "mhroPP2iLZxy"
      },
      "execution_count": 598,
      "outputs": []
    },
    {
      "cell_type": "code",
      "source": [
        "col = 'N'\n",
        "colnames = ['N', col + '2',col + '3',col + '4',col + '5',col + '6',col + '7',col + '8',col + '9',col + '10']\n",
        "Np = testdata[colnames]\n",
        "Np = Np.replace(99, np.nan)\n",
        "\n",
        "normal_NP = Np.apply(normal_Np, axis=1)\n",
        "low_NP = Np.apply(low_Np, axis=1)\n",
        "high_NP = Np.apply(high_Np, axis=1)\n",
        "\n",
        "\n",
        "testdata['normal_Np'] = normal_NP\n",
        "testdata['low_Np'] = low_NP\n",
        "testdata['high_Np'] = high_NP\n",
        "\n",
        "testdata.drop(colnames, axis = 1, inplace = True)"
      ],
      "metadata": {
        "id": "VwF_MPpFLZxy"
      },
      "execution_count": 599,
      "outputs": []
    },
    {
      "cell_type": "code",
      "source": [
        "col = 'L'\n",
        "colnames = ['L', col + '2',col + '3',col + '4',col + '5',col + '6',col + '7',col + '8',col + '9',col + '10']\n",
        "Lp = testdata[colnames]\n",
        "Lp = Lp.replace(99, np.nan)\n",
        "\n",
        "normal_LP = Lp.apply(normal_Lp, axis=1)\n",
        "low_LP = Lp.apply(low_Lp, axis=1)\n",
        "high_LP = Lp.apply(high_Lp, axis=1)\n",
        "\n",
        "\n",
        "testdata['normal_Lp'] = normal_LP\n",
        "testdata['low_Lp'] = low_LP\n",
        "testdata['high_Lp'] = high_LP\n",
        "\n",
        "testdata.drop(colnames, axis = 1, inplace = True)"
      ],
      "metadata": {
        "id": "l5DX9BLgLZxy"
      },
      "execution_count": 600,
      "outputs": []
    },
    {
      "cell_type": "code",
      "source": [
        "col = 'PCV'\n",
        "colnames = ['PCV', col + '2',col + '3',col + '4',col + '5',col + '6',col + '7',col + '8',col + '9',col + '10']\n",
        "pcv = testdata[colnames]\n",
        "pcv = pcv.replace(99, np.nan)\n",
        "\n",
        "normal_pcvp = pcv.apply(normal_pcv, axis=1)\n",
        "low_pcvp = pcv.apply(low_pcv, axis=1)\n",
        "high_pcvp = pcv.apply(high_pcv, axis=1)\n",
        "\n",
        "\n",
        "testdata['normal_pcv'] = normal_pcvp\n",
        "testdata['low_pcv'] = low_pcvp\n",
        "testdata['high_pcv'] = high_pcvp\n",
        "\n",
        "testdata.drop(colnames, axis = 1, inplace = True)"
      ],
      "metadata": {
        "id": "aWj6MbWeLZxy"
      },
      "execution_count": 601,
      "outputs": []
    },
    {
      "cell_type": "code",
      "source": [
        "col = 'CRP'\n",
        "colnames = ['CRP', col + '2',col + '3',col + '4',col + '5',col + '6',col + '7',col + '8',col + '9',col + '10']\n",
        "crp = testdata[colnames]\n",
        "crp = crp.replace(99, np.nan)\n",
        "\n",
        "normal_crpp = crp.apply(normal_crp, axis=1)\n",
        "moderate_crpp = crp.apply(moderate_crp, axis=1)\n",
        "marked_crpp = crp.apply(marked_crp, axis=1)\n",
        "severe_crpp = crp.apply(severe_crp, axis=1)\n",
        "\n",
        "testdata['normal_crp'] = normal_crpp\n",
        "testdata['moderate_crp'] = moderate_crpp\n",
        "testdata['marked_crp'] = marked_crpp\n",
        "testdata['severe_crp'] = severe_crpp\n",
        "\n",
        "testdata.drop(colnames, axis = 1, inplace = True)"
      ],
      "metadata": {
        "id": "ztT5cC1TLZxz"
      },
      "execution_count": 602,
      "outputs": []
    },
    {
      "cell_type": "code",
      "source": [
        "# ESR can take 99 so it cannot be distinguished between acutal 99 and na\n",
        "col = 'ESR'\n",
        "colnames = ['ESR', col + '2',col + '3',col + '4',col + '5',col + '6',col + '7',col + '8',col + '9',col + '10']\n",
        "testdata.drop(colnames, axis = 1, inplace = True)"
      ],
      "metadata": {
        "id": "N3HLnSxULZxz"
      },
      "execution_count": 603,
      "outputs": []
    },
    {
      "cell_type": "code",
      "source": [
        "# Too many missing values\n",
        "testdata.drop(['Granularcast', 'Leucocytes'], axis = 1, inplace = True)"
      ],
      "metadata": {
        "id": "TkkU979VLZxz"
      },
      "execution_count": 604,
      "outputs": []
    },
    {
      "cell_type": "code",
      "source": [
        "col = 'Albumin'\n",
        "colnames = ['Albumin', col + '2',col + '3',col + '4',col + '5',col + '6',col + '7',col + '8',col + '9',col + '10']\n",
        "alb = testdata[colnames]\n",
        "alb = alb.replace(99, np.nan)\n",
        "\n",
        "nill_albc = alb.apply(nill_alb, axis=1)\n",
        "occ_albc = alb.apply(occ_alb, axis=1)\n",
        "plus_albc = alb.apply(plus_alb, axis=1)\n",
        "\n",
        "\n",
        "testdata['nill_alb'] = nill_albc\n",
        "testdata['occ_alb'] = occ_albc\n",
        "testdata['plus_alb'] = plus_albc\n",
        "\n",
        "testdata.drop(colnames, axis = 1, inplace = True)"
      ],
      "metadata": {
        "id": "5hUBSGAPLZxz"
      },
      "execution_count": 605,
      "outputs": []
    },
    {
      "cell_type": "code",
      "source": [
        "col = 'Na'\n",
        "colnames = ['Na', col + '2',col + '3',col + '4',col + '5',col + '6',col + '7',col + '8',col + '9',col + '10']\n",
        "Na = testdata[colnames]\n",
        "Na = Na.replace(99, np.nan)\n",
        "\n",
        "normal_Nap = Na.apply(normal_Na, axis=1)\n",
        "low_Nap = Na.apply(low_Na, axis=1)\n",
        "high_Nap = Na.apply(high_Na, axis=1)\n",
        "\n",
        "\n",
        "testdata['normal_Na'] = normal_Nap\n",
        "testdata['low_Na'] = low_Nap\n",
        "testdata['high_Na'] = high_Nap\n",
        "\n",
        "testdata.drop(colnames, axis = 1, inplace = True)"
      ],
      "metadata": {
        "id": "vOtHQ6HKLZxz"
      },
      "execution_count": 606,
      "outputs": []
    },
    {
      "cell_type": "code",
      "source": [
        "col = 'K'\n",
        "colnames = ['K', col + '2',col + '3',col + '4',col + '5',col + '6',col + '7',col + '8',col + '9',col + '10']\n",
        "K = testdata[colnames]\n",
        "K = K.replace(99, np.nan)\n",
        "\n",
        "normal_Kp = K.apply(normal_K, axis=1)\n",
        "low_Kp = K.apply(low_K, axis=1)\n",
        "high_Kp = K.apply(high_K, axis=1)\n",
        "\n",
        "\n",
        "testdata['normal_K'] = normal_Kp\n",
        "testdata['low_K'] = low_Kp\n",
        "testdata['high_K'] = high_Kp\n",
        "\n",
        "testdata.drop(colnames, axis = 1, inplace = True)"
      ],
      "metadata": {
        "id": "M5YfY8XXLZx0"
      },
      "execution_count": 607,
      "outputs": []
    },
    {
      "cell_type": "code",
      "source": [
        "col = 'AST'\n",
        "colnames = ['AST', col + '2',col + '3',col + '4',col + '5',col + '6',col + '7',col + '8',col + '9',col + '10']\n",
        "AST = testdata[colnames]\n",
        "AST = AST.replace(99, np.nan)\n",
        "\n",
        "normal_ASTp = AST.apply(normal_AST, axis=1)\n",
        "low_ASTp = AST.apply(low_AST, axis=1)\n",
        "high_ASTp = AST.apply(high_AST, axis=1)\n",
        "\n",
        "\n",
        "testdata['normal_AST'] = normal_ASTp\n",
        "testdata['low_AST'] = low_ASTp\n",
        "testdata['high_AST'] = high_ASTp\n",
        "\n",
        "testdata.drop(colnames, axis = 1, inplace = True)"
      ],
      "metadata": {
        "id": "7Toj3KxJLZx0"
      },
      "execution_count": 608,
      "outputs": []
    },
    {
      "cell_type": "code",
      "source": [
        "# ALT can take 99 so it cannot be distinguished between acutal 99 and na\n",
        "col = 'ALT'\n",
        "colnames = ['ALT', col + '2',col + '3',col + '4',col + '5',col + '6',col + '7',col + '8',col + '9',col + '10']\n",
        "testdata.drop(colnames, axis = 1, inplace = True)"
      ],
      "metadata": {
        "id": "RtWBPfo-LZx0"
      },
      "execution_count": 609,
      "outputs": []
    },
    {
      "cell_type": "code",
      "source": [
        "col = 'T.Bilirub'\n",
        "colnames = ['T.Bilirubin', col + '2',col + '3',col + '4',col + '5',col + '6',col + '7',col + '8',col + '9',col + '10']\n",
        "TBil = testdata[colnames]\n",
        "TBil = TBil.replace(99, np.nan)\n",
        "\n",
        "normal_TBilp = TBil.apply(normal_TBil, axis=1)\n",
        "high_TBilp = TBil.apply(high_TBil, axis=1)\n",
        "\n",
        "\n",
        "testdata['normal_TBil'] = normal_TBilp\n",
        "testdata['high_TBil'] = high_TBilp\n",
        "\n",
        "testdata.drop(colnames, axis = 1, inplace = True)"
      ],
      "metadata": {
        "id": "wzSRTFUiLZx2"
      },
      "execution_count": 610,
      "outputs": []
    },
    {
      "cell_type": "code",
      "source": [
        "col = 'D.Bilirub'\n",
        "colnames = ['D.Bilirubin', col + '2',col + '3',col + '4',col + '5',col + '6',col + '7',col + '8',col + '9',col + '10']\n",
        "DBil = testdata[colnames]\n",
        "DBil = DBil.replace(99, np.nan)\n",
        "\n",
        "normal_DBilp = DBil.apply(normal_DBil, axis=1)\n",
        "high_DBilp = DBil.apply(high_DBil, axis=1)\n",
        "\n",
        "\n",
        "testdata['normal_DBil'] = normal_DBilp\n",
        "testdata['high_DBil'] = high_DBilp\n",
        "\n",
        "testdata.drop(colnames, axis = 1, inplace = True)"
      ],
      "metadata": {
        "id": "Z3MU75qBLZx2"
      },
      "execution_count": 611,
      "outputs": []
    },
    {
      "cell_type": "code",
      "source": [
        "col = 'B.Urea'\n",
        "colnames = ['B.urea', col + '2',col + '3',col + '4',col + '5',col + '6',col + '7',col + '8',col + '9',col + '10']\n",
        "testdata[colnames] = testdata[colnames].where(testdata[colnames] < 99, np.nan)\n"
      ],
      "metadata": {
        "id": "Qu73zFqwLZx2"
      },
      "execution_count": 612,
      "outputs": []
    },
    {
      "cell_type": "code",
      "source": [
        "BUrea = testdata[colnames]\n",
        "\n",
        "normal_BUreap = BUrea.apply(normal_BUrea, axis=1)\n",
        "low_BUreap = BUrea.apply(low_BUrea, axis=1)\n",
        "high_BUreap = BUrea.apply(high_BUrea, axis=1)\n",
        "\n",
        "testdata['normal_BUrea'] = normal_BUreap\n",
        "testdata['low_BUrea'] = low_BUreap\n",
        "testdata['high_BUrea'] = high_BUreap\n",
        "\n",
        "testdata.drop(colnames, axis = 1, inplace = True)"
      ],
      "metadata": {
        "id": "Qgvge1FxLZx2"
      },
      "execution_count": 613,
      "outputs": []
    },
    {
      "cell_type": "code",
      "source": [
        "# ESR can take 99 so it cannot be distinguished between acutal 99 and na\n",
        "col = 'GT'\n",
        "colnames = ['X.GT', col + '2',col + '3',col + '4',col + '5',col + '6',col + '7',col + '8',col + '9',col + '10']\n",
        "testdata.drop(colnames, axis = 1, inplace = True)\n",
        "\n",
        "# S.Cr\n",
        "col = 'S.Cr'\n",
        "colnames = ['S.creatinine', col + '2',col + '3',col + '4',col + '5',col + '6',col + '7',col + '8',col + '9',col + '10']\n",
        "testdata.drop(colnames, axis = 1, inplace = True)"
      ],
      "metadata": {
        "id": "7kMoWP9LLZx2"
      },
      "execution_count": 614,
      "outputs": []
    },
    {
      "cell_type": "code",
      "source": [
        "cols = ['S.amylase', 'S.phosphate','ALP']\n",
        "for col in cols:\n",
        "  colname = [col + '2',col + '3',col + '4',col + '5',col + '6',col + '7',col + '8',col + '9',col + '10']\n",
        "  testdata.drop(colname, axis = 1, inplace = True)\n"
      ],
      "metadata": {
        "id": "ud4aQg11LZx2"
      },
      "execution_count": 615,
      "outputs": []
    },
    {
      "cell_type": "code",
      "source": [
        "testdata = testdata.drop('ID', axis=1)\n",
        "testdata = testdata.replace(99, np.nan)"
      ],
      "metadata": {
        "id": "cxgZUjixLZx3"
      },
      "execution_count": 616,
      "outputs": []
    },
    {
      "cell_type": "code",
      "source": [
        "cols = ['HomeStreamrivercanaloranyotherrunningwatersource', \n",
        "        'WorkplaceStreamrivercanaloranyotherrunningwatersource',\n",
        "        'Homepondlaketankoranyotherstagnantwatersource',\n",
        "        'WorkPlacepondlaketankoranyotherstagnantwatersource']\n",
        "       \n",
        "anyWaterArea = testdata[cols]\n",
        "\n",
        "testdata['anyWaterArea'] = anyWaterArea.apply(water_area, axis=1)\n",
        "\n",
        "testdata.drop(cols, axis = 1, inplace = True)\n"
      ],
      "metadata": {
        "id": "2Cx3DGPS8se1"
      },
      "execution_count": 617,
      "outputs": []
    },
    {
      "cell_type": "code",
      "source": [
        "lowercase_testdata = testdata.copy()\n",
        "lowercase_testdata.columns = lowercase_testdata.columns.str.lower()\n",
        "\n",
        "for col in animal:\n",
        "  testdata[col] = lowercase_testdata[col + 'home'] + lowercase_testdata[col + 'workplace'] + lowercase_testdata[col + 'neighbourhood']\n",
        "  \n",
        "testdata.drop(['Rathome','RatWorkplace','RatNeighbourhood','Cathome','Catworkplace',\n",
        "           'CatNeighbourhood','Doghome','DogWorkplace','DogNeighbourhood',\n",
        "           'Cattlehome','CattleWorkplace','CattleNeighbourhood','PigHome',\n",
        "           'PigWorkplace','PigNeighbourhood','GoatHome','GoatWorkplace','GoatNeighbourhood','OtherHome',\n",
        "           'OtherWorkplace','OtherNeighbourhood'], axis = 1, inplace = True)\n"
      ],
      "metadata": {
        "id": "_NQfpjf69FOP"
      },
      "execution_count": 618,
      "outputs": []
    },
    {
      "cell_type": "code",
      "source": [
        "testdata = testdata.rename(columns={'Workplacemarshywet':'Workplacemarshywetland', 'HomeBushes':'Homebushes', 'WorkPlaceworkingpaddyfield':'Workplaceworkingpaddyfield',\n",
        "                            'workplaceotheragricultural':'Workplaceotheragricultural'})\n",
        "\n",
        "cols = ['marshywetland','bushes','forest','workingpaddyfield','abondantpaddyfield',\n",
        "        'otheragricultural','animalfarm','garbageaccumilation','blockeddrainage','sewer']\n",
        "\n",
        "for col in cols:\n",
        "  df = testdata[['Home' + col, 'Workplace' + col]]\n",
        "  testdata['any' + col] = df.apply(outcome, axis=1)\n",
        "  testdata.drop(['Home' + col, 'Workplace' + col], axis = 1, inplace = True)"
      ],
      "metadata": {
        "id": "JX8K-xk49_GG"
      },
      "execution_count": 619,
      "outputs": []
    },
    {
      "cell_type": "code",
      "source": [
        "testdata['urumeeya'] = testdata['Urumeeyahome'] + testdata['Urumeeyaworkplace'] + testdata['UrimeeyaNeighbourhood']\n",
        "testdata['otherRhodents'] = testdata['OtherrhodentsHome'] + testdata['OtherRhoddentsWorkplace'] + testdata['OtherRhodentsNeighbourhood']\n",
        "\n",
        "testdata.drop(['UrimeeyaNeighbourhood','Urumeeyahome','Urumeeyaworkplace', 'OtherrhodentsHome', 'OtherRhoddentsWorkplace', 'OtherRhodentsNeighbourhood'], axis = 1, inplace=True)"
      ],
      "metadata": {
        "id": "Uw3052E4-alb"
      },
      "execution_count": 620,
      "outputs": []
    },
    {
      "cell_type": "code",
      "source": [
        "# Diagnosis\n",
        "cols = ['WPqPCRDiagnosis','UrineqPCRDiagnosis','CultureqPCRDia','SerumqPCRDiagnosis','UFqPCRDiag']\n",
        "\n",
        "testdata['confirmed_diag'] = testdata[cols].eq(1).sum(axis=1)\n",
        "testdata['probable_diag'] = testdata[cols].eq(2).sum(axis=1)\n",
        "testdata['notdetected_diag'] = testdata[cols].eq(3).sum(axis=1)\n",
        "\n",
        "testdata.drop(['UrineqPCRDiagnosis','CultureqPCRDia','SerumqPCRDiagnosis','UFqPCRDiag'], axis = 1, inplace = True)"
      ],
      "metadata": {
        "id": "_O5Zh1hL9a0F"
      },
      "execution_count": 621,
      "outputs": []
    },
    {
      "cell_type": "code",
      "source": [
        "testdata['Isolate'] = testdata['Isolate'].replace(98, np.nan)"
      ],
      "metadata": {
        "id": "G0XvCR61LZx3"
      },
      "execution_count": 622,
      "outputs": []
    },
    {
      "cell_type": "code",
      "source": [
        "testdata = testdata.drop(columns_to_drop_2, axis=1)"
      ],
      "metadata": {
        "id": "4zKvbPnCLZx3"
      },
      "execution_count": 623,
      "outputs": []
    },
    {
      "cell_type": "code",
      "source": [
        "testdata.shape"
      ],
      "metadata": {
        "colab": {
          "base_uri": "https://localhost:8080/",
          "height": 0
        },
        "outputId": "802c6891-07f3-44bc-a115-38c003323948",
        "id": "I27jQyE9LZx3"
      },
      "execution_count": 624,
      "outputs": [
        {
          "output_type": "execute_result",
          "data": {
            "text/plain": [
              "(347, 81)"
            ]
          },
          "metadata": {},
          "execution_count": 624
        }
      ]
    },
    {
      "cell_type": "code",
      "source": [
        "cat_columns_to_convert = ['Year','Month','ICU','OPD','Sex','Hospital', 'Sample',\n",
        "                          'Ethnicity','Education','TertiaryEducation','Prophylactics',\n",
        "                          'Pasttreatments','Pastantibiotics','Chronicillness',\n",
        "                          'Possibleexposure','Psychoticsymptomsonset','Psychoticsymptomsad',\n",
        "                          'WPqPCRDiagnosis','Isolate','MAT_set_1']\n",
        "\n",
        "testdata[cat_columns_to_convert] = testdata[cat_columns_to_convert].astype('Int64')\n",
        "testdata[cat_columns_to_convert] = testdata[cat_columns_to_convert].astype('category')\n",
        "\n",
        "num_columns_to_convert  = testdata.columns[testdata.columns.get_loc('HeadacheDays'):]\n",
        "\n",
        "testdata[num_columns_to_convert] = testdata[num_columns_to_convert].astype('Int64')"
      ],
      "metadata": {
        "id": "O9j0rkydLZx3"
      },
      "execution_count": 625,
      "outputs": []
    },
    {
      "cell_type": "code",
      "source": [
        "imp_testdata2 = testdata.copy()\n",
        "\n",
        "categorical_columns = testdata.select_dtypes(include='category').columns.tolist()\n",
        "\n",
        "testdata2_imputed = imp_testdata2[categorical_columns].fillna(imp_testdata2[categorical_columns].mode().iloc[0])\n",
        "\n",
        "# Update the original testdataframe with the imputed values\n",
        "imp_testdata2[categorical_columns] = testdata2_imputed\n",
        "\n",
        "from sklearn.impute import SimpleImputer\n",
        "\n",
        "# Create an instance of SimpleImputer with strategy='mean'\n",
        "imputer = SimpleImputer(strategy='mean')\n",
        "\n",
        "# Fit the imputer on the 'income' column and transform the testdata\n",
        "imp_testdata2['Income'] = imputer.fit_transform(imp_testdata2[['Income']])\n",
        "\n",
        "imputer = KNNImputer(n_neighbors=5)\n",
        "\n",
        "# Fit the imputer on the testdata and transform the 'age' column\n",
        "imp_testdata2['Age'] = imputer.fit_transform(imp_testdata2[['Age']])\n",
        "# Round the imputed values to the nearest integer\n",
        "imp_testdata2['Age'] = imp_testdata2['Age'].round().astype(int)\n",
        "\n",
        "columns = imp_testdata2.columns.tolist()\n",
        "\n",
        "# Find the index of the 'column_x'\n",
        "index = columns.index('HeadacheDays')\n",
        "\n",
        "missing_columns = columns[index:]\n",
        "\n",
        "testdata_imputed = imp_testdata2[missing_columns].fillna(imp_testdata2[missing_columns].mode().iloc[0])\n",
        "\n",
        "# Update the original testdataFrame with the imputed values\n",
        "imp_testdata2[missing_columns] = testdata_imputed\n",
        "imp_testdata2['WPqPCRDiagnosis'] = imp_testdata2['WPqPCRDiagnosis'].map({1: 'Confirmed', 2: 'Probable', 3: 'Not Detected'})\n",
        "test_df = imp_testdata2.drop(['MAT_set_1', 'Hospital', 'Sample'], axis = 1)"
      ],
      "metadata": {
        "id": "_eYBQgfV_Ujy"
      },
      "execution_count": 626,
      "outputs": []
    },
    {
      "cell_type": "markdown",
      "source": [
        "# Model Fitting \n"
      ],
      "metadata": {
        "id": "NirQAZFEzRus"
      }
    },
    {
      "cell_type": "code",
      "source": [
        "from sklearn.linear_model import LogisticRegression\n",
        "from sklearn.preprocessing import OneHotEncoder, StandardScaler\n",
        "from sklearn.compose import ColumnTransformer\n",
        "from sklearn.pipeline import Pipeline\n",
        "from sklearn.impute import SimpleImputer\n",
        "\n",
        "X = imp_data2.drop(['Final', 'MAT_set_1', 'Hospital', 'Sample'], axis = 1)\n",
        "y = imp_data2['Final']\n",
        "\n",
        "categorical_cols = X.select_dtypes(include='category').columns.tolist()\n",
        "numeric_cols = X.select_dtypes(include=['Int64', 'float64']).columns.tolist()\n",
        "\n",
        "preprocessor = ColumnTransformer(\n",
        "    transformers=[\n",
        "        ('cat', OneHotEncoder(), categorical_cols),\n",
        "        ('num', StandardScaler(), numeric_cols)\n",
        "    ])\n",
        "\n",
        "# Logistic regression model\n",
        "model = Pipeline(steps=[\n",
        "    ('preprocessor', preprocessor),\n",
        "    ('classifier', LogisticRegression(max_iter=1000))\n",
        "])\n",
        "\n",
        "\n",
        "from sklearn.preprocessing import LabelEncoder\n",
        "\n",
        "label_encoder = LabelEncoder()\n",
        "y_encoded = label_encoder.fit_transform(y)\n",
        "\n",
        "# Fit the model\n",
        "model.fit(X, y_encoded)\n",
        "\n",
        "# Evaluate the model\n",
        "accuracy = model.score(X, y_encoded)\n",
        "print(\"Accuracy:\", accuracy)"
      ],
      "metadata": {
        "colab": {
          "base_uri": "https://localhost:8080/",
          "height": 0
        },
        "outputId": "5f8b0eff-bae1-43b9-82a0-33ac330a38b0",
        "id": "47YP12X6zYz_"
      },
      "execution_count": 627,
      "outputs": [
        {
          "output_type": "stream",
          "name": "stdout",
          "text": [
            "Accuracy: 0.9301470588235294\n"
          ]
        }
      ]
    },
    {
      "cell_type": "code",
      "source": [
        "y_testpred = model.predict(test_df)"
      ],
      "metadata": {
        "id": "dmCIG95Yvg_D"
      },
      "execution_count": 628,
      "outputs": []
    },
    {
      "cell_type": "code",
      "source": [
        "actual_ytp = y_testpred + 1"
      ],
      "metadata": {
        "id": "qgphUPBGJWod"
      },
      "execution_count": 629,
      "outputs": []
    },
    {
      "cell_type": "code",
      "source": [
        "print(actual_ytp)"
      ],
      "metadata": {
        "colab": {
          "base_uri": "https://localhost:8080/",
          "height": 0
        },
        "id": "hVL5UEX3HT4J",
        "outputId": "8be2e13d-22a8-43b5-f221-9b3cb25a3c7e"
      },
      "execution_count": 630,
      "outputs": [
        {
          "output_type": "stream",
          "name": "stdout",
          "text": [
            "[1 2 2 1 1 2 2 2 2 2 2 2 2 2 2 2 2 2 2 2 2 2 2 2 2 2 2 2 2 2 2 2 2 2 2 2 2\n",
            " 2 2 1 1 2 1 2 2 2 2 2 2 2 2 2 2 2 1 1 1 2 2 2 2 2 1 2 2 1 1 1 2 2 2 2 1 2\n",
            " 2 1 2 2 2 2 2 1 2 2 2 2 2 2 2 2 2 2 2 2 2 2 2 2 2 2 2 2 2 2 2 2 2 2 1 2 2\n",
            " 1 2 2 2 2 2 2 1 2 2 1 2 2 1 2 2 2 2 2 2 2 2 2 2 2 2 2 1 2 2 1 2 2 2 2 2 1\n",
            " 1 1 1 2 1 1 1 2 2 2 2 2 2 2 2 2 2 2 2 1 1 1 1 1 1 2 2 2 1 1 1 2 2 2 1 2 2\n",
            " 2 2 2 2 1 1 1 2 2 2 2 1 2 1 2 1 2 1 2 1 1 1 1 1 1 1 1 1 2 1 2 2 2 2 2 2 2\n",
            " 2 1 2 2 2 2 2 2 1 2 2 2 1 1 1 1 1 1 1 2 2 2 2 2 2 2 2 1 2 1 1 1 2 2 2 1 2\n",
            " 2 1 2 2 2 1 1 2 2 2 2 1 1 2 2 1 2 1 1 1 2 2 1 1 2 1 2 2 2 2 2 2 2 2 1 2 1\n",
            " 2 1 2 1 2 2 2 2 2 2 2 2 2 2 1 1 2 2 2 2 2 2 2 2 2 2 1 1 1 1 1 1 1 1 1 1 2\n",
            " 1 2 2 1 2 2 2 2 2 1 2 2 1 2]\n"
          ]
        }
      ]
    },
    {
      "cell_type": "code",
      "execution_count": 634,
      "metadata": {
        "colab": {
          "base_uri": "https://localhost:8080/",
          "height": 1000
        },
        "outputId": "b179dc09-8ec9-4166-8203-2d3283ccb878",
        "id": "eM5MtdWauG03"
      },
      "outputs": [
        {
          "output_type": "display_data",
          "data": {
            "text/plain": [
              "<Figure size 1500x1100 with 1 Axes>"
            ],
            "image/png": "[encoded data removed]"
          },
          "metadata": {}
        }
      ],
      "source": [
        "import matplotlib.pyplot as plt\n",
        "mod = model.named_steps['classifier']\n",
        "coef_abs = np.abs(mod.coef_[0])\n",
        "feature_names = preprocessor.named_transformers_['num'].get_feature_names_out().tolist() \\\n",
        "               + preprocessor.named_transformers_['cat'].get_feature_names_out().tolist()\n",
        "\n",
        "# Sort the feature importance in descending order\n",
        "sorted_indices = np.argsort(coef_abs)[::-1]\n",
        "sorted_coef_abs = coef_abs[sorted_indices]\n",
        "sorted_feature_names = np.array(feature_names)[sorted_indices]\n",
        "\n",
        "# Create the variable importance graph\n",
        "plt.figure(figsize=(15, 11))\n",
        "plt.bar(range(len(sorted_coef_abs)), sorted_coef_abs, align='center', color='skyblue')\n",
        "plt.xticks(range(len(sorted_coef_abs)), sorted_feature_names, rotation=90)\n",
        "plt.xlabel('Features')\n",
        "plt.ylabel('Absolute Coefficient')\n",
        "plt.title('Variable Importance - Logistic Regression')\n",
        "plt.tight_layout()\n",
        "plt.show()"
      ]
    },
    {
      "cell_type": "code",
      "execution_count": 635,
      "metadata": {
        "colab": {
          "base_uri": "https://localhost:8080/",
          "height": 0
        },
        "outputId": "37735949-607f-4435-ac09-1a47c8821fb6",
        "id": "853M8owWuXoR"
      },
      "outputs": [
        {
          "output_type": "stream",
          "name": "stdout",
          "text": [
            "Accuracy: 0.9237132352941176\n"
          ]
        }
      ],
      "source": [
        "X_preprocessed = model.named_steps['preprocessor'].transform(X)\n",
        "X_preprocessed_df = pd.DataFrame(X_preprocessed, columns=feature_names)\n",
        "selected_indices = np.where(sorted_coef_abs > 0.4)[0]\n",
        "selected_feature_names = sorted_feature_names[selected_indices]\n",
        "X_selected = X_preprocessed_df[selected_feature_names]\n",
        "model2 = LogisticRegression(max_iter=1000)\n",
        "model2.fit(X_selected, y_encoded)\n",
        "accuracy = model2.score(X_selected, y_encoded)\n",
        "print(\"Accuracy:\", accuracy)"
      ]
    },
    {
      "cell_type": "code",
      "execution_count": 636,
      "metadata": {
        "colab": {
          "base_uri": "https://localhost:8080/",
          "height": 0
        },
        "outputId": "ad968420-6911-4306-ce4a-0c725010e55e",
        "id": "8joNq6Oeughq"
      },
      "outputs": [
        {
          "output_type": "execute_result",
          "data": {
            "text/plain": [
              "array(['WPqPCRDiagnosis_Probable', 'Year_2017', 'Year_2018',\n",
              "       'MustenderDays', 'ChillsDays', 'MucorashDays', 'VomitingDays',\n",
              "       'MusclepainDays', 'SpleenomegalyDays', 'probable_diag',\n",
              "       'Pasttreatments_1', 'Age', 'Pasttreatments_2', 'HeadacheDays',\n",
              "       'BleedingDays', 'normal_AST', 'low_AST',\n",
              "       'Psychoticsymptomsonset_1', 'SkinrashDays', 'notdetected_diag',\n",
              "       'Psychoticsymptomsonset_2', 'ProstrationDays', 'Pastantibiotics_2',\n",
              "       'LymphadenopathyDays', 'TertiaryEducation_1'], dtype='<U28')"
            ]
          },
          "metadata": {},
          "execution_count": 636
        }
      ],
      "source": [
        "selected_feature_names "
      ]
    },
    {
      "cell_type": "code",
      "execution_count": 637,
      "metadata": {
        "id": "OWhjisoSPbTt"
      },
      "outputs": [],
      "source": [
        "Xtest_preprocessed = preprocessor.transform(test_df)\n",
        "Xtest_preprocessed_df = pd.DataFrame(Xtest_preprocessed, columns=feature_names)\n",
        "Xtest_selected = Xtest_preprocessed_df[selected_feature_names]\n",
        "y_testpred_selected = model2.predict(Xtest_selected)\n",
        "y_testpred_selected += 1"
      ]
    },
    {
      "cell_type": "code",
      "execution_count": 638,
      "metadata": {
        "colab": {
          "base_uri": "https://localhost:8080/",
          "height": 0
        },
        "id": "PkziSWxJ564c",
        "outputId": "fd0e86d4-f2fe-4e75-ea4c-0f0437a5ca6a"
      },
      "outputs": [
        {
          "output_type": "stream",
          "name": "stdout",
          "text": [
            "Accuracy: 0.9884726224783862\n"
          ]
        }
      ],
      "source": [
        "from sklearn.metrics import accuracy_score\n",
        "accuracy = accuracy_score(y_testpred_selected, actual_ytp)\n",
        "print(\"Accuracy:\", accuracy)"
      ]
    }
  ]
}